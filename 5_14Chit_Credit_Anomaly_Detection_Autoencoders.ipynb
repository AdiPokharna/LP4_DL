{
 "cells": [
  {
   "cell_type": "code",
   "execution_count": 1,
   "id": "b31832dc",
   "metadata": {},
   "outputs": [],
   "source": [
    "import tensorflow as tf\n",
    "from tensorflow.keras import layers, models\n",
    "from sklearn.model_selection import train_test_split\n",
    "from sklearn.preprocessing import StandardScaler\n",
    "import pandas as pd\n",
    "import numpy as np"
   ]
  },
  {
   "cell_type": "code",
   "execution_count": 2,
   "id": "ec247e6f",
   "metadata": {},
   "outputs": [],
   "source": [
    "df = pd.read_csv(\"D:\\Deep_Learning_code\\creditcard.csv\")"
   ]
  },
  {
   "cell_type": "code",
   "execution_count": 5,
   "id": "a15d2e27",
   "metadata": {},
   "outputs": [
    {
     "data": {
      "text/plain": [
       "(284807, 31)"
      ]
     },
     "execution_count": 5,
     "metadata": {},
     "output_type": "execute_result"
    }
   ],
   "source": [
    "df.shape"
   ]
  },
  {
   "cell_type": "code",
   "execution_count": 7,
   "id": "9945b14a",
   "metadata": {},
   "outputs": [
    {
     "data": {
      "text/plain": [
       "Index(['Time', 'V1', 'V2', 'V3', 'V4', 'V5', 'V6', 'V7', 'V8', 'V9', 'V10',\n",
       "       'V11', 'V12', 'V13', 'V14', 'V15', 'V16', 'V17', 'V18', 'V19', 'V20',\n",
       "       'V21', 'V22', 'V23', 'V24', 'V25', 'V26', 'V27', 'V28', 'Amount',\n",
       "       'Class'],\n",
       "      dtype='object')"
      ]
     },
     "execution_count": 7,
     "metadata": {},
     "output_type": "execute_result"
    }
   ],
   "source": [
    "df.columns"
   ]
  },
  {
   "cell_type": "code",
   "execution_count": 8,
   "id": "041687d3",
   "metadata": {},
   "outputs": [],
   "source": [
    "X = df.drop(['Class'], axis=1)\n",
    "y = df['Class']"
   ]
  },
  {
   "cell_type": "code",
   "execution_count": 21,
   "id": "b691fe9b",
   "metadata": {},
   "outputs": [],
   "source": [
    "X_train, X_test, y_train, y_test = train_test_split(X, y, test_size=0.4, random_state=42)"
   ]
  },
  {
   "cell_type": "code",
   "execution_count": 22,
   "id": "4746062d",
   "metadata": {},
   "outputs": [],
   "source": [
    "scaler = StandardScaler()\n",
    "X_train = scaler.fit_transform(X_train)\n",
    "X_test = scaler.transform(X_test)"
   ]
  },
  {
   "cell_type": "code",
   "execution_count": 23,
   "id": "a6da47d5",
   "metadata": {},
   "outputs": [],
   "source": [
    "encoding_dim = 32  "
   ]
  },
  {
   "cell_type": "code",
   "execution_count": 24,
   "id": "931e471f",
   "metadata": {},
   "outputs": [],
   "source": [
    "encoder = models.Sequential([\n",
    "    layers.Dense(encoding_dim, activation='relu', input_shape=(X_train.shape[1],)),\n",
    "])\n",
    "\n",
    "decoder = models.Sequential([\n",
    "    layers.Dense(X_train.shape[1], activation='sigmoid'),\n",
    "])"
   ]
  },
  {
   "cell_type": "code",
   "execution_count": 25,
   "id": "68295da3",
   "metadata": {},
   "outputs": [],
   "source": [
    "autoencoder = models.Sequential([\n",
    "    encoder,\n",
    "    decoder,\n",
    "])"
   ]
  },
  {
   "cell_type": "code",
   "execution_count": 28,
   "id": "6133d988",
   "metadata": {},
   "outputs": [],
   "source": [
    "autoencoder.compile(optimizer='adam', loss='mean_squared_error', metrics=['accuracy'])"
   ]
  },
  {
   "cell_type": "code",
   "execution_count": 29,
   "id": "a66e37d1",
   "metadata": {},
   "outputs": [
    {
     "name": "stdout",
     "output_type": "stream",
     "text": [
      "Epoch 1/10\n",
      "2671/2671 [==============================] - 6s 2ms/step - loss: 0.6682 - accuracy: 0.9298 - val_loss: 0.6488 - val_accuracy: 0.9269\n",
      "Epoch 2/10\n",
      "2671/2671 [==============================] - 5s 2ms/step - loss: 0.6682 - accuracy: 0.9306 - val_loss: 0.6486 - val_accuracy: 0.9331\n",
      "Epoch 3/10\n",
      "2671/2671 [==============================] - 6s 2ms/step - loss: 0.6682 - accuracy: 0.9309 - val_loss: 0.6486 - val_accuracy: 0.9305\n",
      "Epoch 4/10\n",
      "2671/2671 [==============================] - 6s 2ms/step - loss: 0.6681 - accuracy: 0.9308 - val_loss: 0.6486 - val_accuracy: 0.9292\n",
      "Epoch 5/10\n",
      "2671/2671 [==============================] - 7s 3ms/step - loss: 0.6681 - accuracy: 0.9312 - val_loss: 0.6485 - val_accuracy: 0.9309\n",
      "Epoch 6/10\n",
      "2671/2671 [==============================] - 6s 2ms/step - loss: 0.6681 - accuracy: 0.9318 - val_loss: 0.6486 - val_accuracy: 0.9258\n",
      "Epoch 7/10\n",
      "2671/2671 [==============================] - 7s 2ms/step - loss: 0.6681 - accuracy: 0.9316 - val_loss: 0.6485 - val_accuracy: 0.9327\n",
      "Epoch 8/10\n",
      "2671/2671 [==============================] - 6s 2ms/step - loss: 0.6681 - accuracy: 0.9314 - val_loss: 0.6485 - val_accuracy: 0.9323\n",
      "Epoch 9/10\n",
      "2671/2671 [==============================] - 6s 2ms/step - loss: 0.6681 - accuracy: 0.9317 - val_loss: 0.6485 - val_accuracy: 0.9315\n",
      "Epoch 10/10\n",
      "2671/2671 [==============================] - 6s 2ms/step - loss: 0.6681 - accuracy: 0.9313 - val_loss: 0.6485 - val_accuracy: 0.9334\n"
     ]
    },
    {
     "data": {
      "text/plain": [
       "<keras.callbacks.History at 0x261574bb970>"
      ]
     },
     "execution_count": 29,
     "metadata": {},
     "output_type": "execute_result"
    }
   ],
   "source": [
    "autoencoder.fit(X_train, X_train, epochs=10, batch_size=64, shuffle=True, validation_data=(X_test, X_test))"
   ]
  },
  {
   "cell_type": "code",
   "execution_count": 30,
   "id": "3bc732a4",
   "metadata": {},
   "outputs": [
    {
     "name": "stdout",
     "output_type": "stream",
     "text": [
      "3561/3561 [==============================] - 7s 2ms/step - loss: 0.6485 - accuracy: 0.9334\n",
      "Test Loss: [0.6484519839286804, 0.9333584904670715]\n"
     ]
    }
   ],
   "source": [
    "loss = autoencoder.evaluate(X_test, X_test)\n",
    "print(f'Test Loss: {loss}')"
   ]
  },
  {
   "cell_type": "code",
   "execution_count": 31,
   "id": "80b68145",
   "metadata": {},
   "outputs": [],
   "source": [
    "from sklearn.metrics import confusion_matrix, classification_report"
   ]
  },
  {
   "cell_type": "code",
   "execution_count": 32,
   "id": "602b5d1e",
   "metadata": {},
   "outputs": [
    {
     "name": "stdout",
     "output_type": "stream",
     "text": [
      "Confusion Matrix:\n",
      " [[108204   5528]\n",
      " [    22    169]]\n",
      "\n",
      "Classification Report:\n",
      "               precision    recall  f1-score   support\n",
      "\n",
      "           0       1.00      0.95      0.97    113732\n",
      "           1       0.03      0.88      0.06       191\n",
      "\n",
      "    accuracy                           0.95    113923\n",
      "   macro avg       0.51      0.92      0.52    113923\n",
      "weighted avg       1.00      0.95      0.97    113923\n",
      "\n"
     ]
    }
   ],
   "source": [
    "# Evaluate the model on the test set\n",
    "decoded_data = autoencoder.predict(X_test)\n",
    "mse = np.mean(np.power(X_test - decoded_data, 2), axis=1)\n",
    "threshold = np.percentile(mse, 95)  # Adjust the percentile as needed for tuning sensitivity\n",
    "\n",
    "# Identify outliers based on the threshold\n",
    "outliers = mse > threshold\n",
    "\n",
    "# Print evaluation metrics for anomaly detection\n",
    "print(\"Confusion Matrix:\\n\", confusion_matrix(y_test, outliers))\n",
    "print(\"\\nClassification Report:\\n\", classification_report(y_test, outliers))"
   ]
  },
  {
   "cell_type": "code",
   "execution_count": 33,
   "id": "6c466c08",
   "metadata": {},
   "outputs": [
    {
     "name": "stdout",
     "output_type": "stream",
     "text": [
      "Number of outliers: 5697\n",
      "Number of anomalies: 169\n"
     ]
    }
   ],
   "source": [
    "# Print the number of outliers and anomalies\n",
    "num_outliers = np.sum(outliers)\n",
    "num_anomalies = np.sum(y_test[outliers] == 1)  # Assuming 1 represents the positive class\n",
    "\n",
    "print(f'Number of outliers: {num_outliers}')\n",
    "print(f'Number of anomalies: {num_anomalies}')"
   ]
  },
  {
   "cell_type": "code",
   "execution_count": null,
   "id": "7ca909b7",
   "metadata": {},
   "outputs": [],
   "source": []
  }
 ],
 "metadata": {
  "kernelspec": {
   "display_name": "Python 3 (ipykernel)",
   "language": "python",
   "name": "python3"
  },
  "language_info": {
   "codemirror_mode": {
    "name": "ipython",
    "version": 3
   },
   "file_extension": ".py",
   "mimetype": "text/x-python",
   "name": "python",
   "nbconvert_exporter": "python",
   "pygments_lexer": "ipython3",
   "version": "3.9.5"
  }
 },
 "nbformat": 4,
 "nbformat_minor": 5
}
