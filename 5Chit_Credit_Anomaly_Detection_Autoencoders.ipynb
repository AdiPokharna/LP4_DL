{
  "nbformat": 4,
  "nbformat_minor": 0,
  "metadata": {
    "colab": {
      "provenance": []
    },
    "kernelspec": {
      "name": "python3",
      "display_name": "Python 3"
    }
  },
  "cells": [
    {
      "cell_type": "markdown",
      "source": [
        "#####AdiPokharna\n",
        "# **Chit 5**"
      ],
      "metadata": {
        "id": "VvwSUZIQBeo8"
      }
    },
    {
      "cell_type": "markdown",
      "source": [
        "*Problem Statement:*\n",
        "\n",
        "    Implement anomaly detection for given credit card dataset using Autoencoder and build the model by using the following steps:\n",
        "    a.\tImport required libraries\n",
        "    b.\tUpload / access the dataset\n",
        "    c.\tEncoder converts it into latent representation\n",
        "    d.\tDecoder networks convert it back to the original input\n",
        "    e.\tCompile the models with Optimizer, Loss, and Evaluation Metrics\n"
      ],
      "metadata": {
        "id": "T9f0RSeUJLP1"
      }
    },
    {
      "cell_type": "markdown",
      "metadata": {
        "id": "iEl3ncgPc0sv"
      },
      "source": [
        "\n",
        "#Credit Card Fraud Detection\n",
        "\n",
        "Example of outlier detection with autoencoders. Dataset https://www.kaggle.com/mlg-ulb/creditcardfraud from Machine Learning Group (http://mlg.ulb.ac.be) of ULB (Université Libre de Bruxelles).\n",
        "\n",
        "It is a highly unbalanced dataset with a very low percetnage of fraudulent credit card transactions. Our purpose is to build a classifier for detecting fraudulent transactions. In this example we will consider them as outliers an will use an autoencoder for detecting them.\n",
        "\n",
        "##Downloading of dataset\n"
      ]
    },
    {
      "cell_type": "code",
      "metadata": {
        "id": "gT2psZNVvB9U",
        "outputId": "fe2da6c6-ef33-45c5-8954-bb1b22c03f38",
        "colab": {
          "base_uri": "https://localhost:8080/"
        }
      },
      "source": [
        "!wget -O creditfraud.zip https://www.dropbox.com/s/tl20yp9bcl56oxt/creditcardfraud.zip?dl=0"
      ],
      "execution_count": 1,
      "outputs": [
        {
          "output_type": "stream",
          "name": "stdout",
          "text": [
            "--2023-11-11 06:40:50--  https://www.dropbox.com/s/tl20yp9bcl56oxt/creditcardfraud.zip?dl=0\n",
            "Resolving www.dropbox.com (www.dropbox.com)... 162.125.2.18, 2620:100:6022:18::a27d:4212\n",
            "Connecting to www.dropbox.com (www.dropbox.com)|162.125.2.18|:443... connected.\n",
            "HTTP request sent, awaiting response... 302 Found\n",
            "Location: /s/raw/tl20yp9bcl56oxt/creditcardfraud.zip [following]\n",
            "--2023-11-11 06:40:51--  https://www.dropbox.com/s/raw/tl20yp9bcl56oxt/creditcardfraud.zip\n",
            "Reusing existing connection to www.dropbox.com:443.\n",
            "HTTP request sent, awaiting response... 302 Found\n",
            "Location: https://uc11cb51b3995c39892ab77653a4.dl.dropboxusercontent.com/cd/0/inline/CHXVk7XUBbEOS4Fr07YaGXewzdG4gMJC8mg47KV-LJq6VGTlqGqIzgSoLvQcAlAEpmStlRiV2ZVpx3YAngyEBl49QJgpXGskTCFe9JQ4S4VM6zdvucD3B1e9Wvtuy5-PJCmU4IC4s_0xsV5u0lN4LpP8/file# [following]\n",
            "--2023-11-11 06:40:51--  https://uc11cb51b3995c39892ab77653a4.dl.dropboxusercontent.com/cd/0/inline/CHXVk7XUBbEOS4Fr07YaGXewzdG4gMJC8mg47KV-LJq6VGTlqGqIzgSoLvQcAlAEpmStlRiV2ZVpx3YAngyEBl49QJgpXGskTCFe9JQ4S4VM6zdvucD3B1e9Wvtuy5-PJCmU4IC4s_0xsV5u0lN4LpP8/file\n",
            "Resolving uc11cb51b3995c39892ab77653a4.dl.dropboxusercontent.com (uc11cb51b3995c39892ab77653a4.dl.dropboxusercontent.com)... 162.125.2.15, 2620:100:601c:15::a27d:60f\n",
            "Connecting to uc11cb51b3995c39892ab77653a4.dl.dropboxusercontent.com (uc11cb51b3995c39892ab77653a4.dl.dropboxusercontent.com)|162.125.2.15|:443... connected.\n",
            "HTTP request sent, awaiting response... 302 Found\n",
            "Location: /cd/0/inline2/CHVfG17FCdnLJzGHUYNtfwVlca6Czg2TDVAho5W-UkZDA7qLKat4lL9f_nYxBYv4Xy-GuVFqJki3yFByF_voX8kWRla9u-7Iw1DgMmLg1EcaM2lm1m_TQ1PdZfa7k0JxMeB7k7CTxR_W3j-S95qf6mmTjpK7TdEo9H7ldXKNCUPg-F-QGhLRySFvweiA9iAs09yPwvuKFKWllOTsmKfKxaQPXApC7FtdxyaDU47Z3r0nMQW8SUDDnoYG36cfrgVP9befePYUQM6Am8bJZ7cLtaT10o5Ukjn2egVGudB_7k4UVjmGLPU40mO2Jcs8bSy2sPQKMQiTakph_wWu9xaLs3uwdd8ES57Ab3PmxldBRbzMHULQ6K8u4zWgSxkZ1J0pOXo/file [following]\n",
            "--2023-11-11 06:40:51--  https://uc11cb51b3995c39892ab77653a4.dl.dropboxusercontent.com/cd/0/inline2/CHVfG17FCdnLJzGHUYNtfwVlca6Czg2TDVAho5W-UkZDA7qLKat4lL9f_nYxBYv4Xy-GuVFqJki3yFByF_voX8kWRla9u-7Iw1DgMmLg1EcaM2lm1m_TQ1PdZfa7k0JxMeB7k7CTxR_W3j-S95qf6mmTjpK7TdEo9H7ldXKNCUPg-F-QGhLRySFvweiA9iAs09yPwvuKFKWllOTsmKfKxaQPXApC7FtdxyaDU47Z3r0nMQW8SUDDnoYG36cfrgVP9befePYUQM6Am8bJZ7cLtaT10o5Ukjn2egVGudB_7k4UVjmGLPU40mO2Jcs8bSy2sPQKMQiTakph_wWu9xaLs3uwdd8ES57Ab3PmxldBRbzMHULQ6K8u4zWgSxkZ1J0pOXo/file\n",
            "Reusing existing connection to uc11cb51b3995c39892ab77653a4.dl.dropboxusercontent.com:443.\n",
            "HTTP request sent, awaiting response... 200 OK\n",
            "Length: 69155672 (66M) [application/zip]\n",
            "Saving to: ‘creditfraud.zip’\n",
            "\n",
            "creditfraud.zip     100%[===================>]  65.95M   102MB/s    in 0.6s    \n",
            "\n",
            "2023-11-11 06:40:52 (102 MB/s) - ‘creditfraud.zip’ saved [69155672/69155672]\n",
            "\n"
          ]
        }
      ]
    },
    {
      "cell_type": "code",
      "metadata": {
        "id": "1xqM1qxSvD_b",
        "outputId": "10371415-cc0a-4104-bb03-21c7702cf7b9",
        "colab": {
          "base_uri": "https://localhost:8080/"
        }
      },
      "source": [
        "!unzip creditfraud.zip"
      ],
      "execution_count": 2,
      "outputs": [
        {
          "output_type": "stream",
          "name": "stdout",
          "text": [
            "Archive:  creditfraud.zip\n",
            "  inflating: creditcard.csv          \n"
          ]
        }
      ]
    },
    {
      "cell_type": "markdown",
      "metadata": {
        "id": "3OV8v985dDi6"
      },
      "source": [
        "##Loading libraries"
      ]
    },
    {
      "cell_type": "code",
      "metadata": {
        "id": "C-vN7SvXvMs5"
      },
      "source": [
        "import pandas as pd\n",
        "import numpy as np\n",
        "import seaborn as sns\n",
        "import matplotlib.pyplot as plt\n",
        "import matplotlib.ticker as ticker\n",
        "from sklearn.model_selection import train_test_split\n",
        "from sklearn.linear_model import LogisticRegression\n",
        "from sklearn import metrics\n",
        "from sklearn.preprocessing import StandardScaler\n",
        "from keras.models import Model, load_model\n",
        "from keras.layers import Input, Dense"
      ],
      "execution_count": 3,
      "outputs": []
    },
    {
      "cell_type": "markdown",
      "metadata": {
        "id": "Fp9PNETFd2G4"
      },
      "source": [
        "##Loading dataset in Python and taking a first look"
      ]
    },
    {
      "cell_type": "code",
      "metadata": {
        "id": "NMVr2-hzvlID",
        "outputId": "f3e3956d-2128-4265-cf8c-b524b8493c2c",
        "colab": {
          "base_uri": "https://localhost:8080/",
          "height": 255
        }
      },
      "source": [
        "dat=pd.read_csv('creditcard.csv')\n",
        "dat.head()"
      ],
      "execution_count": 4,
      "outputs": [
        {
          "output_type": "execute_result",
          "data": {
            "text/plain": [
              "   Time        V1        V2        V3        V4        V5        V6        V7  \\\n",
              "0   0.0 -1.359807 -0.072781  2.536347  1.378155 -0.338321  0.462388  0.239599   \n",
              "1   0.0  1.191857  0.266151  0.166480  0.448154  0.060018 -0.082361 -0.078803   \n",
              "2   1.0 -1.358354 -1.340163  1.773209  0.379780 -0.503198  1.800499  0.791461   \n",
              "3   1.0 -0.966272 -0.185226  1.792993 -0.863291 -0.010309  1.247203  0.237609   \n",
              "4   2.0 -1.158233  0.877737  1.548718  0.403034 -0.407193  0.095921  0.592941   \n",
              "\n",
              "         V8        V9  ...       V21       V22       V23       V24       V25  \\\n",
              "0  0.098698  0.363787  ... -0.018307  0.277838 -0.110474  0.066928  0.128539   \n",
              "1  0.085102 -0.255425  ... -0.225775 -0.638672  0.101288 -0.339846  0.167170   \n",
              "2  0.247676 -1.514654  ...  0.247998  0.771679  0.909412 -0.689281 -0.327642   \n",
              "3  0.377436 -1.387024  ... -0.108300  0.005274 -0.190321 -1.175575  0.647376   \n",
              "4 -0.270533  0.817739  ... -0.009431  0.798278 -0.137458  0.141267 -0.206010   \n",
              "\n",
              "        V26       V27       V28  Amount  Class  \n",
              "0 -0.189115  0.133558 -0.021053  149.62      0  \n",
              "1  0.125895 -0.008983  0.014724    2.69      0  \n",
              "2 -0.139097 -0.055353 -0.059752  378.66      0  \n",
              "3 -0.221929  0.062723  0.061458  123.50      0  \n",
              "4  0.502292  0.219422  0.215153   69.99      0  \n",
              "\n",
              "[5 rows x 31 columns]"
            ],
            "text/html": [
              "\n",
              "  <div id=\"df-e1e4e0a0-221d-44c3-8a09-3df14bcd301f\" class=\"colab-df-container\">\n",
              "    <div>\n",
              "<style scoped>\n",
              "    .dataframe tbody tr th:only-of-type {\n",
              "        vertical-align: middle;\n",
              "    }\n",
              "\n",
              "    .dataframe tbody tr th {\n",
              "        vertical-align: top;\n",
              "    }\n",
              "\n",
              "    .dataframe thead th {\n",
              "        text-align: right;\n",
              "    }\n",
              "</style>\n",
              "<table border=\"1\" class=\"dataframe\">\n",
              "  <thead>\n",
              "    <tr style=\"text-align: right;\">\n",
              "      <th></th>\n",
              "      <th>Time</th>\n",
              "      <th>V1</th>\n",
              "      <th>V2</th>\n",
              "      <th>V3</th>\n",
              "      <th>V4</th>\n",
              "      <th>V5</th>\n",
              "      <th>V6</th>\n",
              "      <th>V7</th>\n",
              "      <th>V8</th>\n",
              "      <th>V9</th>\n",
              "      <th>...</th>\n",
              "      <th>V21</th>\n",
              "      <th>V22</th>\n",
              "      <th>V23</th>\n",
              "      <th>V24</th>\n",
              "      <th>V25</th>\n",
              "      <th>V26</th>\n",
              "      <th>V27</th>\n",
              "      <th>V28</th>\n",
              "      <th>Amount</th>\n",
              "      <th>Class</th>\n",
              "    </tr>\n",
              "  </thead>\n",
              "  <tbody>\n",
              "    <tr>\n",
              "      <th>0</th>\n",
              "      <td>0.0</td>\n",
              "      <td>-1.359807</td>\n",
              "      <td>-0.072781</td>\n",
              "      <td>2.536347</td>\n",
              "      <td>1.378155</td>\n",
              "      <td>-0.338321</td>\n",
              "      <td>0.462388</td>\n",
              "      <td>0.239599</td>\n",
              "      <td>0.098698</td>\n",
              "      <td>0.363787</td>\n",
              "      <td>...</td>\n",
              "      <td>-0.018307</td>\n",
              "      <td>0.277838</td>\n",
              "      <td>-0.110474</td>\n",
              "      <td>0.066928</td>\n",
              "      <td>0.128539</td>\n",
              "      <td>-0.189115</td>\n",
              "      <td>0.133558</td>\n",
              "      <td>-0.021053</td>\n",
              "      <td>149.62</td>\n",
              "      <td>0</td>\n",
              "    </tr>\n",
              "    <tr>\n",
              "      <th>1</th>\n",
              "      <td>0.0</td>\n",
              "      <td>1.191857</td>\n",
              "      <td>0.266151</td>\n",
              "      <td>0.166480</td>\n",
              "      <td>0.448154</td>\n",
              "      <td>0.060018</td>\n",
              "      <td>-0.082361</td>\n",
              "      <td>-0.078803</td>\n",
              "      <td>0.085102</td>\n",
              "      <td>-0.255425</td>\n",
              "      <td>...</td>\n",
              "      <td>-0.225775</td>\n",
              "      <td>-0.638672</td>\n",
              "      <td>0.101288</td>\n",
              "      <td>-0.339846</td>\n",
              "      <td>0.167170</td>\n",
              "      <td>0.125895</td>\n",
              "      <td>-0.008983</td>\n",
              "      <td>0.014724</td>\n",
              "      <td>2.69</td>\n",
              "      <td>0</td>\n",
              "    </tr>\n",
              "    <tr>\n",
              "      <th>2</th>\n",
              "      <td>1.0</td>\n",
              "      <td>-1.358354</td>\n",
              "      <td>-1.340163</td>\n",
              "      <td>1.773209</td>\n",
              "      <td>0.379780</td>\n",
              "      <td>-0.503198</td>\n",
              "      <td>1.800499</td>\n",
              "      <td>0.791461</td>\n",
              "      <td>0.247676</td>\n",
              "      <td>-1.514654</td>\n",
              "      <td>...</td>\n",
              "      <td>0.247998</td>\n",
              "      <td>0.771679</td>\n",
              "      <td>0.909412</td>\n",
              "      <td>-0.689281</td>\n",
              "      <td>-0.327642</td>\n",
              "      <td>-0.139097</td>\n",
              "      <td>-0.055353</td>\n",
              "      <td>-0.059752</td>\n",
              "      <td>378.66</td>\n",
              "      <td>0</td>\n",
              "    </tr>\n",
              "    <tr>\n",
              "      <th>3</th>\n",
              "      <td>1.0</td>\n",
              "      <td>-0.966272</td>\n",
              "      <td>-0.185226</td>\n",
              "      <td>1.792993</td>\n",
              "      <td>-0.863291</td>\n",
              "      <td>-0.010309</td>\n",
              "      <td>1.247203</td>\n",
              "      <td>0.237609</td>\n",
              "      <td>0.377436</td>\n",
              "      <td>-1.387024</td>\n",
              "      <td>...</td>\n",
              "      <td>-0.108300</td>\n",
              "      <td>0.005274</td>\n",
              "      <td>-0.190321</td>\n",
              "      <td>-1.175575</td>\n",
              "      <td>0.647376</td>\n",
              "      <td>-0.221929</td>\n",
              "      <td>0.062723</td>\n",
              "      <td>0.061458</td>\n",
              "      <td>123.50</td>\n",
              "      <td>0</td>\n",
              "    </tr>\n",
              "    <tr>\n",
              "      <th>4</th>\n",
              "      <td>2.0</td>\n",
              "      <td>-1.158233</td>\n",
              "      <td>0.877737</td>\n",
              "      <td>1.548718</td>\n",
              "      <td>0.403034</td>\n",
              "      <td>-0.407193</td>\n",
              "      <td>0.095921</td>\n",
              "      <td>0.592941</td>\n",
              "      <td>-0.270533</td>\n",
              "      <td>0.817739</td>\n",
              "      <td>...</td>\n",
              "      <td>-0.009431</td>\n",
              "      <td>0.798278</td>\n",
              "      <td>-0.137458</td>\n",
              "      <td>0.141267</td>\n",
              "      <td>-0.206010</td>\n",
              "      <td>0.502292</td>\n",
              "      <td>0.219422</td>\n",
              "      <td>0.215153</td>\n",
              "      <td>69.99</td>\n",
              "      <td>0</td>\n",
              "    </tr>\n",
              "  </tbody>\n",
              "</table>\n",
              "<p>5 rows × 31 columns</p>\n",
              "</div>\n",
              "    <div class=\"colab-df-buttons\">\n",
              "\n",
              "  <div class=\"colab-df-container\">\n",
              "    <button class=\"colab-df-convert\" onclick=\"convertToInteractive('df-e1e4e0a0-221d-44c3-8a09-3df14bcd301f')\"\n",
              "            title=\"Convert this dataframe to an interactive table.\"\n",
              "            style=\"display:none;\">\n",
              "\n",
              "  <svg xmlns=\"http://www.w3.org/2000/svg\" height=\"24px\" viewBox=\"0 -960 960 960\">\n",
              "    <path d=\"M120-120v-720h720v720H120Zm60-500h600v-160H180v160Zm220 220h160v-160H400v160Zm0 220h160v-160H400v160ZM180-400h160v-160H180v160Zm440 0h160v-160H620v160ZM180-180h160v-160H180v160Zm440 0h160v-160H620v160Z\"/>\n",
              "  </svg>\n",
              "    </button>\n",
              "\n",
              "  <style>\n",
              "    .colab-df-container {\n",
              "      display:flex;\n",
              "      gap: 12px;\n",
              "    }\n",
              "\n",
              "    .colab-df-convert {\n",
              "      background-color: #E8F0FE;\n",
              "      border: none;\n",
              "      border-radius: 50%;\n",
              "      cursor: pointer;\n",
              "      display: none;\n",
              "      fill: #1967D2;\n",
              "      height: 32px;\n",
              "      padding: 0 0 0 0;\n",
              "      width: 32px;\n",
              "    }\n",
              "\n",
              "    .colab-df-convert:hover {\n",
              "      background-color: #E2EBFA;\n",
              "      box-shadow: 0px 1px 2px rgba(60, 64, 67, 0.3), 0px 1px 3px 1px rgba(60, 64, 67, 0.15);\n",
              "      fill: #174EA6;\n",
              "    }\n",
              "\n",
              "    .colab-df-buttons div {\n",
              "      margin-bottom: 4px;\n",
              "    }\n",
              "\n",
              "    [theme=dark] .colab-df-convert {\n",
              "      background-color: #3B4455;\n",
              "      fill: #D2E3FC;\n",
              "    }\n",
              "\n",
              "    [theme=dark] .colab-df-convert:hover {\n",
              "      background-color: #434B5C;\n",
              "      box-shadow: 0px 1px 3px 1px rgba(0, 0, 0, 0.15);\n",
              "      filter: drop-shadow(0px 1px 2px rgba(0, 0, 0, 0.3));\n",
              "      fill: #FFFFFF;\n",
              "    }\n",
              "  </style>\n",
              "\n",
              "    <script>\n",
              "      const buttonEl =\n",
              "        document.querySelector('#df-e1e4e0a0-221d-44c3-8a09-3df14bcd301f button.colab-df-convert');\n",
              "      buttonEl.style.display =\n",
              "        google.colab.kernel.accessAllowed ? 'block' : 'none';\n",
              "\n",
              "      async function convertToInteractive(key) {\n",
              "        const element = document.querySelector('#df-e1e4e0a0-221d-44c3-8a09-3df14bcd301f');\n",
              "        const dataTable =\n",
              "          await google.colab.kernel.invokeFunction('convertToInteractive',\n",
              "                                                    [key], {});\n",
              "        if (!dataTable) return;\n",
              "\n",
              "        const docLinkHtml = 'Like what you see? Visit the ' +\n",
              "          '<a target=\"_blank\" href=https://colab.research.google.com/notebooks/data_table.ipynb>data table notebook</a>'\n",
              "          + ' to learn more about interactive tables.';\n",
              "        element.innerHTML = '';\n",
              "        dataTable['output_type'] = 'display_data';\n",
              "        await google.colab.output.renderOutput(dataTable, element);\n",
              "        const docLink = document.createElement('div');\n",
              "        docLink.innerHTML = docLinkHtml;\n",
              "        element.appendChild(docLink);\n",
              "      }\n",
              "    </script>\n",
              "  </div>\n",
              "\n",
              "\n",
              "<div id=\"df-eab53da9-ac2c-426c-962a-81f42eeda0b7\">\n",
              "  <button class=\"colab-df-quickchart\" onclick=\"quickchart('df-eab53da9-ac2c-426c-962a-81f42eeda0b7')\"\n",
              "            title=\"Suggest charts\"\n",
              "            style=\"display:none;\">\n",
              "\n",
              "<svg xmlns=\"http://www.w3.org/2000/svg\" height=\"24px\"viewBox=\"0 0 24 24\"\n",
              "     width=\"24px\">\n",
              "    <g>\n",
              "        <path d=\"M19 3H5c-1.1 0-2 .9-2 2v14c0 1.1.9 2 2 2h14c1.1 0 2-.9 2-2V5c0-1.1-.9-2-2-2zM9 17H7v-7h2v7zm4 0h-2V7h2v10zm4 0h-2v-4h2v4z\"/>\n",
              "    </g>\n",
              "</svg>\n",
              "  </button>\n",
              "\n",
              "<style>\n",
              "  .colab-df-quickchart {\n",
              "      --bg-color: #E8F0FE;\n",
              "      --fill-color: #1967D2;\n",
              "      --hover-bg-color: #E2EBFA;\n",
              "      --hover-fill-color: #174EA6;\n",
              "      --disabled-fill-color: #AAA;\n",
              "      --disabled-bg-color: #DDD;\n",
              "  }\n",
              "\n",
              "  [theme=dark] .colab-df-quickchart {\n",
              "      --bg-color: #3B4455;\n",
              "      --fill-color: #D2E3FC;\n",
              "      --hover-bg-color: #434B5C;\n",
              "      --hover-fill-color: #FFFFFF;\n",
              "      --disabled-bg-color: #3B4455;\n",
              "      --disabled-fill-color: #666;\n",
              "  }\n",
              "\n",
              "  .colab-df-quickchart {\n",
              "    background-color: var(--bg-color);\n",
              "    border: none;\n",
              "    border-radius: 50%;\n",
              "    cursor: pointer;\n",
              "    display: none;\n",
              "    fill: var(--fill-color);\n",
              "    height: 32px;\n",
              "    padding: 0;\n",
              "    width: 32px;\n",
              "  }\n",
              "\n",
              "  .colab-df-quickchart:hover {\n",
              "    background-color: var(--hover-bg-color);\n",
              "    box-shadow: 0 1px 2px rgba(60, 64, 67, 0.3), 0 1px 3px 1px rgba(60, 64, 67, 0.15);\n",
              "    fill: var(--button-hover-fill-color);\n",
              "  }\n",
              "\n",
              "  .colab-df-quickchart-complete:disabled,\n",
              "  .colab-df-quickchart-complete:disabled:hover {\n",
              "    background-color: var(--disabled-bg-color);\n",
              "    fill: var(--disabled-fill-color);\n",
              "    box-shadow: none;\n",
              "  }\n",
              "\n",
              "  .colab-df-spinner {\n",
              "    border: 2px solid var(--fill-color);\n",
              "    border-color: transparent;\n",
              "    border-bottom-color: var(--fill-color);\n",
              "    animation:\n",
              "      spin 1s steps(1) infinite;\n",
              "  }\n",
              "\n",
              "  @keyframes spin {\n",
              "    0% {\n",
              "      border-color: transparent;\n",
              "      border-bottom-color: var(--fill-color);\n",
              "      border-left-color: var(--fill-color);\n",
              "    }\n",
              "    20% {\n",
              "      border-color: transparent;\n",
              "      border-left-color: var(--fill-color);\n",
              "      border-top-color: var(--fill-color);\n",
              "    }\n",
              "    30% {\n",
              "      border-color: transparent;\n",
              "      border-left-color: var(--fill-color);\n",
              "      border-top-color: var(--fill-color);\n",
              "      border-right-color: var(--fill-color);\n",
              "    }\n",
              "    40% {\n",
              "      border-color: transparent;\n",
              "      border-right-color: var(--fill-color);\n",
              "      border-top-color: var(--fill-color);\n",
              "    }\n",
              "    60% {\n",
              "      border-color: transparent;\n",
              "      border-right-color: var(--fill-color);\n",
              "    }\n",
              "    80% {\n",
              "      border-color: transparent;\n",
              "      border-right-color: var(--fill-color);\n",
              "      border-bottom-color: var(--fill-color);\n",
              "    }\n",
              "    90% {\n",
              "      border-color: transparent;\n",
              "      border-bottom-color: var(--fill-color);\n",
              "    }\n",
              "  }\n",
              "</style>\n",
              "\n",
              "  <script>\n",
              "    async function quickchart(key) {\n",
              "      const quickchartButtonEl =\n",
              "        document.querySelector('#' + key + ' button');\n",
              "      quickchartButtonEl.disabled = true;  // To prevent multiple clicks.\n",
              "      quickchartButtonEl.classList.add('colab-df-spinner');\n",
              "      try {\n",
              "        const charts = await google.colab.kernel.invokeFunction(\n",
              "            'suggestCharts', [key], {});\n",
              "      } catch (error) {\n",
              "        console.error('Error during call to suggestCharts:', error);\n",
              "      }\n",
              "      quickchartButtonEl.classList.remove('colab-df-spinner');\n",
              "      quickchartButtonEl.classList.add('colab-df-quickchart-complete');\n",
              "    }\n",
              "    (() => {\n",
              "      let quickchartButtonEl =\n",
              "        document.querySelector('#df-eab53da9-ac2c-426c-962a-81f42eeda0b7 button');\n",
              "      quickchartButtonEl.style.display =\n",
              "        google.colab.kernel.accessAllowed ? 'block' : 'none';\n",
              "    })();\n",
              "  </script>\n",
              "</div>\n",
              "    </div>\n",
              "  </div>\n"
            ]
          },
          "metadata": {},
          "execution_count": 4
        }
      ]
    },
    {
      "cell_type": "markdown",
      "metadata": {
        "id": "5Y0a-xNMeDEA"
      },
      "source": [
        "The dataset is highly unbalanced with very few fraudulent credit cards"
      ]
    },
    {
      "cell_type": "code",
      "metadata": {
        "id": "l3TwIbGCvmz9",
        "outputId": "32306e48-cee9-4e92-bc24-eea0c7886d45",
        "colab": {
          "base_uri": "https://localhost:8080/"
        }
      },
      "source": [
        "dat['Class'].value_counts()/dat['Class'].count()"
      ],
      "execution_count": 5,
      "outputs": [
        {
          "output_type": "execute_result",
          "data": {
            "text/plain": [
              "0    0.998273\n",
              "1    0.001727\n",
              "Name: Class, dtype: float64"
            ]
          },
          "metadata": {},
          "execution_count": 5
        }
      ]
    },
    {
      "cell_type": "code",
      "metadata": {
        "id": "L4KRErdPvt1A",
        "outputId": "9cd58024-6a92-409a-cab3-2bc5f769352e",
        "colab": {
          "base_uri": "https://localhost:8080/",
          "height": 466
        }
      },
      "source": [
        "sns.countplot(x='Class',data=dat)"
      ],
      "execution_count": 6,
      "outputs": [
        {
          "output_type": "execute_result",
          "data": {
            "text/plain": [
              "<Axes: xlabel='Class', ylabel='count'>"
            ]
          },
          "metadata": {},
          "execution_count": 6
        },
        {
          "output_type": "display_data",
          "data": {
            "text/plain": [
              "<Figure size 640x480 with 1 Axes>"
            ],
            "image/png": "[encoded data removed]"
          },
          "metadata": {}
        }
      ]
    },
    {
      "cell_type": "code",
      "metadata": {
        "id": "wDJt4sXDvxzb",
        "colab": {
          "base_uri": "https://localhost:8080/"
        },
        "outputId": "6e4240eb-a1c5-4e59-c48f-33b58e568ca7"
      },
      "source": [
        "dat = dat.drop([ 'Time'], 1)\n",
        "dat['Amount'] = StandardScaler().fit_transform(dat['Amount'].values.reshape(-1, 1))"
      ],
      "execution_count": 7,
      "outputs": [
        {
          "output_type": "stream",
          "name": "stderr",
          "text": [
            "<ipython-input-7-4d01bcd2b6d4>:1: FutureWarning: In a future version of pandas all arguments of DataFrame.drop except for the argument 'labels' will be keyword-only.\n",
            "  dat = dat.drop([ 'Time'], 1)\n"
          ]
        }
      ]
    },
    {
      "cell_type": "markdown",
      "metadata": {
        "id": "2vTh-X3beLk_"
      },
      "source": [
        "Splitting into train and test datasets"
      ]
    },
    {
      "cell_type": "code",
      "metadata": {
        "id": "1T3X-3wFv001",
        "colab": {
          "base_uri": "https://localhost:8080/"
        },
        "outputId": "20558f4b-44ad-42d9-d639-879cdc4d71e0"
      },
      "source": [
        "X_train, X_test, y_train, y_test = train_test_split(dat.drop('Class',1) , dat['Class'], test_size=0.5, random_state=0)"
      ],
      "execution_count": 8,
      "outputs": [
        {
          "output_type": "stream",
          "name": "stderr",
          "text": [
            "<ipython-input-8-1e3010871204>:1: FutureWarning: In a future version of pandas all arguments of DataFrame.drop except for the argument 'labels' will be keyword-only.\n",
            "  X_train, X_test, y_train, y_test = train_test_split(dat.drop('Class',1) , dat['Class'], test_size=0.5, random_state=0)\n"
          ]
        }
      ]
    },
    {
      "cell_type": "code",
      "metadata": {
        "id": "ooXM9UEwv3QX",
        "outputId": "dcc1a8e8-f8ec-4fbc-d100-a326502476d6",
        "colab": {
          "base_uri": "https://localhost:8080/"
        }
      },
      "source": [
        "y_test.value_counts()/y_test.count()"
      ],
      "execution_count": 9,
      "outputs": [
        {
          "output_type": "execute_result",
          "data": {
            "text/plain": [
              "0    0.998294\n",
              "1    0.001706\n",
              "Name: Class, dtype: float64"
            ]
          },
          "metadata": {},
          "execution_count": 9
        }
      ]
    },
    {
      "cell_type": "code",
      "metadata": {
        "id": "K3YUftDjv5z-",
        "outputId": "9cd0d95b-e717-483b-e100-f5681cb634c8",
        "colab": {
          "base_uri": "https://localhost:8080/"
        }
      },
      "source": [
        "y_train.value_counts()/y_train.count()"
      ],
      "execution_count": 10,
      "outputs": [
        {
          "output_type": "execute_result",
          "data": {
            "text/plain": [
              "0    0.998251\n",
              "1    0.001749\n",
              "Name: Class, dtype: float64"
            ]
          },
          "metadata": {},
          "execution_count": 10
        }
      ]
    },
    {
      "cell_type": "markdown",
      "metadata": {
        "id": "otvOl-HcevoG"
      },
      "source": [
        "##First method: using autoencoder's regression error"
      ]
    },
    {
      "cell_type": "markdown",
      "metadata": {
        "id": "xPpRAl0TeQR8"
      },
      "source": [
        "For our first example we will train our autoencoder only on non fraudulent cases"
      ]
    },
    {
      "cell_type": "code",
      "metadata": {
        "id": "mMzBdaAdv7rE"
      },
      "source": [
        "X_train_normal = X_train[y_train==0]\n",
        "X_train_fraud = X_train[y_train==1]"
      ],
      "execution_count": 11,
      "outputs": []
    },
    {
      "cell_type": "markdown",
      "metadata": {
        "id": "CbX1U5aheSla"
      },
      "source": [
        "Building an autoencoder with\n",
        "- an input layer with 29 neurons,\n",
        "- a hidden layer with 12 neurons,\n",
        "- an output layer with 29 neurons"
      ]
    },
    {
      "cell_type": "code",
      "metadata": {
        "id": "euBPgiamw2R6"
      },
      "source": [
        "input_layer = Input(shape=(29, ))\n",
        "encoded = Dense(12,activation='tanh')(input_layer)\n",
        "decoded = Dense(29,activation='sigmoid')(encoded)\n",
        "autoencoder = Model(input_layer,decoded)"
      ],
      "execution_count": 12,
      "outputs": []
    },
    {
      "cell_type": "code",
      "metadata": {
        "id": "fY42GWDWyoxL"
      },
      "source": [
        "autoencoder.compile(optimizer='adam',loss='mean_squared_error')"
      ],
      "execution_count": 13,
      "outputs": []
    },
    {
      "cell_type": "code",
      "metadata": {
        "id": "ZC2j3eXJxM-B",
        "outputId": "05b3f6bf-6cad-4877-d75a-7da9c1ca8818",
        "colab": {
          "base_uri": "https://localhost:8080/"
        }
      },
      "source": [
        "autoencoder.fit(X_train_normal, X_train_normal, epochs = 100, batch_size=128,\n",
        "validation_data=(X_train_normal,X_train_normal))"
      ],
      "execution_count": 14,
      "outputs": [
        {
          "output_type": "stream",
          "name": "stdout",
          "text": [
            "Epoch 1/100\n",
            "1111/1111 [==============================] - 5s 4ms/step - loss: 1.0022 - val_loss: 0.8856\n",
            "Epoch 2/100\n",
            "1111/1111 [==============================] - 5s 4ms/step - loss: 0.8603 - val_loss: 0.8425\n",
            "Epoch 3/100\n",
            "1111/1111 [==============================] - 7s 7ms/step - loss: 0.8324 - val_loss: 0.8238\n",
            "Epoch 4/100\n",
            "1111/1111 [==============================] - 5s 4ms/step - loss: 0.8175 - val_loss: 0.8116\n",
            "Epoch 5/100\n",
            "1111/1111 [==============================] - 5s 5ms/step - loss: 0.8070 - val_loss: 0.8026\n",
            "Epoch 6/100\n",
            "1111/1111 [==============================] - 3s 3ms/step - loss: 0.7993 - val_loss: 0.7961\n",
            "Epoch 7/100\n",
            "1111/1111 [==============================] - 3s 3ms/step - loss: 0.7938 - val_loss: 0.7918\n",
            "Epoch 8/100\n",
            "1111/1111 [==============================] - 5s 4ms/step - loss: 0.7899 - val_loss: 0.7882\n",
            "Epoch 9/100\n",
            "1111/1111 [==============================] - 5s 5ms/step - loss: 0.7869 - val_loss: 0.7856\n",
            "Epoch 10/100\n",
            "1111/1111 [==============================] - 3s 3ms/step - loss: 0.7847 - val_loss: 0.7838\n",
            "Epoch 11/100\n",
            "1111/1111 [==============================] - 4s 4ms/step - loss: 0.7830 - val_loss: 0.7821\n",
            "Epoch 12/100\n",
            "1111/1111 [==============================] - 4s 4ms/step - loss: 0.7816 - val_loss: 0.7810\n",
            "Epoch 13/100\n",
            "1111/1111 [==============================] - 3s 3ms/step - loss: 0.7805 - val_loss: 0.7800\n",
            "Epoch 14/100\n",
            "1111/1111 [==============================] - 4s 4ms/step - loss: 0.7795 - val_loss: 0.7789\n",
            "Epoch 15/100\n",
            "1111/1111 [==============================] - 5s 4ms/step - loss: 0.7787 - val_loss: 0.7783\n",
            "Epoch 16/100\n",
            "1111/1111 [==============================] - 5s 4ms/step - loss: 0.7780 - val_loss: 0.7777\n",
            "Epoch 17/100\n",
            "1111/1111 [==============================] - 3s 3ms/step - loss: 0.7775 - val_loss: 0.7771\n",
            "Epoch 18/100\n",
            "1111/1111 [==============================] - 4s 3ms/step - loss: 0.7770 - val_loss: 0.7766\n",
            "Epoch 19/100\n",
            "1111/1111 [==============================] - 5s 5ms/step - loss: 0.7765 - val_loss: 0.7762\n",
            "Epoch 20/100\n",
            "1111/1111 [==============================] - 4s 4ms/step - loss: 0.7762 - val_loss: 0.7758\n",
            "Epoch 21/100\n",
            "1111/1111 [==============================] - 3s 3ms/step - loss: 0.7759 - val_loss: 0.7757\n",
            "Epoch 22/100\n",
            "1111/1111 [==============================] - 5s 4ms/step - loss: 0.7756 - val_loss: 0.7755\n",
            "Epoch 23/100\n",
            "1111/1111 [==============================] - 5s 5ms/step - loss: 0.7754 - val_loss: 0.7753\n",
            "Epoch 24/100\n",
            "1111/1111 [==============================] - 3s 3ms/step - loss: 0.7751 - val_loss: 0.7748\n",
            "Epoch 25/100\n",
            "1111/1111 [==============================] - 5s 4ms/step - loss: 0.7749 - val_loss: 0.7747\n",
            "Epoch 26/100\n",
            "1111/1111 [==============================] - 5s 4ms/step - loss: 0.7747 - val_loss: 0.7745\n",
            "Epoch 27/100\n",
            "1111/1111 [==============================] - 5s 4ms/step - loss: 0.7745 - val_loss: 0.7744\n",
            "Epoch 28/100\n",
            "1111/1111 [==============================] - 5s 4ms/step - loss: 0.7743 - val_loss: 0.7744\n",
            "Epoch 29/100\n",
            "1111/1111 [==============================] - 5s 4ms/step - loss: 0.7743 - val_loss: 0.7742\n",
            "Epoch 30/100\n",
            "1111/1111 [==============================] - 4s 4ms/step - loss: 0.7740 - val_loss: 0.7741\n",
            "Epoch 31/100\n",
            "1111/1111 [==============================] - 5s 5ms/step - loss: 0.7740 - val_loss: 0.7738\n",
            "Epoch 32/100\n",
            "1111/1111 [==============================] - 5s 4ms/step - loss: 0.7738 - val_loss: 0.7737\n",
            "Epoch 33/100\n",
            "1111/1111 [==============================] - 3s 3ms/step - loss: 0.7737 - val_loss: 0.7736\n",
            "Epoch 34/100\n",
            "1111/1111 [==============================] - 5s 4ms/step - loss: 0.7736 - val_loss: 0.7735\n",
            "Epoch 35/100\n",
            "1111/1111 [==============================] - 5s 5ms/step - loss: 0.7735 - val_loss: 0.7734\n",
            "Epoch 36/100\n",
            "1111/1111 [==============================] - 4s 4ms/step - loss: 0.7733 - val_loss: 0.7733\n",
            "Epoch 37/100\n",
            "1111/1111 [==============================] - 5s 4ms/step - loss: 0.7732 - val_loss: 0.7731\n",
            "Epoch 38/100\n",
            "1111/1111 [==============================] - 5s 5ms/step - loss: 0.7732 - val_loss: 0.7735\n",
            "Epoch 39/100\n",
            "1111/1111 [==============================] - 5s 4ms/step - loss: 0.7731 - val_loss: 0.7729\n",
            "Epoch 40/100\n",
            "1111/1111 [==============================] - 5s 4ms/step - loss: 0.7730 - val_loss: 0.7732\n",
            "Epoch 41/100\n",
            "1111/1111 [==============================] - 5s 4ms/step - loss: 0.7729 - val_loss: 0.7728\n",
            "Epoch 42/100\n",
            "1111/1111 [==============================] - 3s 3ms/step - loss: 0.7729 - val_loss: 0.7730\n",
            "Epoch 43/100\n",
            "1111/1111 [==============================] - 5s 4ms/step - loss: 0.7728 - val_loss: 0.7727\n",
            "Epoch 44/100\n",
            "1111/1111 [==============================] - 4s 4ms/step - loss: 0.7727 - val_loss: 0.7726\n",
            "Epoch 45/100\n",
            "1111/1111 [==============================] - 5s 4ms/step - loss: 0.7726 - val_loss: 0.7725\n",
            "Epoch 46/100\n",
            "1111/1111 [==============================] - 5s 4ms/step - loss: 0.7726 - val_loss: 0.7726\n",
            "Epoch 47/100\n",
            "1111/1111 [==============================] - 5s 4ms/step - loss: 0.7725 - val_loss: 0.7723\n",
            "Epoch 48/100\n",
            "1111/1111 [==============================] - 5s 4ms/step - loss: 0.7724 - val_loss: 0.7723\n",
            "Epoch 49/100\n",
            "1111/1111 [==============================] - 5s 4ms/step - loss: 0.7725 - val_loss: 0.7725\n",
            "Epoch 50/100\n",
            "1111/1111 [==============================] - 5s 4ms/step - loss: 0.7723 - val_loss: 0.7723\n",
            "Epoch 51/100\n",
            "1111/1111 [==============================] - 3s 3ms/step - loss: 0.7723 - val_loss: 0.7722\n",
            "Epoch 52/100\n",
            "1111/1111 [==============================] - 4s 4ms/step - loss: 0.7722 - val_loss: 0.7723\n",
            "Epoch 53/100\n",
            "1111/1111 [==============================] - 4s 4ms/step - loss: 0.7722 - val_loss: 0.7720\n",
            "Epoch 54/100\n",
            "1111/1111 [==============================] - 4s 3ms/step - loss: 0.7722 - val_loss: 0.7723\n",
            "Epoch 55/100\n",
            "1111/1111 [==============================] - 5s 4ms/step - loss: 0.7720 - val_loss: 0.7719\n",
            "Epoch 56/100\n",
            "1111/1111 [==============================] - 5s 5ms/step - loss: 0.7720 - val_loss: 0.7722\n",
            "Epoch 57/100\n",
            "1111/1111 [==============================] - 4s 4ms/step - loss: 0.7720 - val_loss: 0.7719\n",
            "Epoch 58/100\n",
            "1111/1111 [==============================] - 3s 3ms/step - loss: 0.7719 - val_loss: 0.7717\n",
            "Epoch 59/100\n",
            "1111/1111 [==============================] - 3s 3ms/step - loss: 0.7718 - val_loss: 0.7718\n",
            "Epoch 60/100\n",
            "1111/1111 [==============================] - 5s 4ms/step - loss: 0.7718 - val_loss: 0.7717\n",
            "Epoch 61/100\n",
            "1111/1111 [==============================] - 5s 4ms/step - loss: 0.7718 - val_loss: 0.7720\n",
            "Epoch 62/100\n",
            "1111/1111 [==============================] - 3s 3ms/step - loss: 0.7717 - val_loss: 0.7716\n",
            "Epoch 63/100\n",
            "1111/1111 [==============================] - 5s 4ms/step - loss: 0.7717 - val_loss: 0.7715\n",
            "Epoch 64/100\n",
            "1111/1111 [==============================] - 5s 5ms/step - loss: 0.7716 - val_loss: 0.7719\n",
            "Epoch 65/100\n",
            "1111/1111 [==============================] - 3s 3ms/step - loss: 0.7716 - val_loss: 0.7716\n",
            "Epoch 66/100\n",
            "1111/1111 [==============================] - 3s 3ms/step - loss: 0.7717 - val_loss: 0.7715\n",
            "Epoch 67/100\n",
            "1111/1111 [==============================] - 5s 5ms/step - loss: 0.7716 - val_loss: 0.7714\n",
            "Epoch 68/100\n",
            "1111/1111 [==============================] - 5s 4ms/step - loss: 0.7715 - val_loss: 0.7717\n",
            "Epoch 69/100\n",
            "1111/1111 [==============================] - 3s 3ms/step - loss: 0.7715 - val_loss: 0.7717\n",
            "Epoch 70/100\n",
            "1111/1111 [==============================] - 5s 4ms/step - loss: 0.7715 - val_loss: 0.7713\n",
            "Epoch 71/100\n",
            "1111/1111 [==============================] - 4s 3ms/step - loss: 0.7715 - val_loss: 0.7715\n",
            "Epoch 72/100\n",
            "1111/1111 [==============================] - 5s 4ms/step - loss: 0.7714 - val_loss: 0.7712\n",
            "Epoch 73/100\n",
            "1111/1111 [==============================] - 5s 4ms/step - loss: 0.7714 - val_loss: 0.7713\n",
            "Epoch 74/100\n",
            "1111/1111 [==============================] - 5s 5ms/step - loss: 0.7713 - val_loss: 0.7714\n",
            "Epoch 75/100\n",
            "1111/1111 [==============================] - 3s 3ms/step - loss: 0.7713 - val_loss: 0.7714\n",
            "Epoch 76/100\n",
            "1111/1111 [==============================] - 3s 3ms/step - loss: 0.7713 - val_loss: 0.7711\n",
            "Epoch 77/100\n",
            "1111/1111 [==============================] - 5s 5ms/step - loss: 0.7713 - val_loss: 0.7713\n",
            "Epoch 78/100\n",
            "1111/1111 [==============================] - 5s 4ms/step - loss: 0.7713 - val_loss: 0.7711\n",
            "Epoch 79/100\n",
            "1111/1111 [==============================] - 5s 4ms/step - loss: 0.7712 - val_loss: 0.7713\n",
            "Epoch 80/100\n",
            "1111/1111 [==============================] - 5s 5ms/step - loss: 0.7712 - val_loss: 0.7712\n",
            "Epoch 81/100\n",
            "1111/1111 [==============================] - 5s 4ms/step - loss: 0.7711 - val_loss: 0.7710\n",
            "Epoch 82/100\n",
            "1111/1111 [==============================] - 5s 4ms/step - loss: 0.7712 - val_loss: 0.7711\n",
            "Epoch 83/100\n",
            "1111/1111 [==============================] - 6s 5ms/step - loss: 0.7712 - val_loss: 0.7710\n",
            "Epoch 84/100\n",
            "1111/1111 [==============================] - 4s 4ms/step - loss: 0.7711 - val_loss: 0.7711\n",
            "Epoch 85/100\n",
            "1111/1111 [==============================] - 3s 3ms/step - loss: 0.7711 - val_loss: 0.7713\n",
            "Epoch 86/100\n",
            "1111/1111 [==============================] - 5s 4ms/step - loss: 0.7711 - val_loss: 0.7709\n",
            "Epoch 87/100\n",
            "1111/1111 [==============================] - 5s 5ms/step - loss: 0.7710 - val_loss: 0.7710\n",
            "Epoch 88/100\n",
            "1111/1111 [==============================] - 3s 3ms/step - loss: 0.7710 - val_loss: 0.7711\n",
            "Epoch 89/100\n",
            "1111/1111 [==============================] - 5s 4ms/step - loss: 0.7710 - val_loss: 0.7712\n",
            "Epoch 90/100\n",
            "1111/1111 [==============================] - 5s 5ms/step - loss: 0.7710 - val_loss: 0.7709\n",
            "Epoch 91/100\n",
            "1111/1111 [==============================] - 5s 4ms/step - loss: 0.7709 - val_loss: 0.7710\n",
            "Epoch 92/100\n",
            "1111/1111 [==============================] - 5s 4ms/step - loss: 0.7709 - val_loss: 0.7708\n",
            "Epoch 93/100\n",
            "1111/1111 [==============================] - 4s 4ms/step - loss: 0.7709 - val_loss: 0.7709\n",
            "Epoch 94/100\n",
            "1111/1111 [==============================] - 3s 3ms/step - loss: 0.7708 - val_loss: 0.7711\n",
            "Epoch 95/100\n",
            "1111/1111 [==============================] - 3s 3ms/step - loss: 0.7709 - val_loss: 0.7707\n",
            "Epoch 96/100\n",
            "1111/1111 [==============================] - 5s 4ms/step - loss: 0.7709 - val_loss: 0.7707\n",
            "Epoch 97/100\n",
            "1111/1111 [==============================] - 4s 3ms/step - loss: 0.7708 - val_loss: 0.7708\n",
            "Epoch 98/100\n",
            "1111/1111 [==============================] - 3s 3ms/step - loss: 0.7709 - val_loss: 0.7707\n",
            "Epoch 99/100\n",
            "1111/1111 [==============================] - 5s 4ms/step - loss: 0.7708 - val_loss: 0.7709\n",
            "Epoch 100/100\n",
            "1111/1111 [==============================] - 4s 4ms/step - loss: 0.7708 - val_loss: 0.7712\n"
          ]
        },
        {
          "output_type": "execute_result",
          "data": {
            "text/plain": [
              "<keras.src.callbacks.History at 0x7ebe0e038af0>"
            ]
          },
          "metadata": {},
          "execution_count": 14
        }
      ]
    },
    {
      "cell_type": "code",
      "metadata": {
        "id": "qzcu7y3nxsw3",
        "outputId": "baf41883-ef04-4780-fb78-768733913930",
        "colab": {
          "base_uri": "https://localhost:8080/",
          "height": 212
        }
      },
      "source": [
        "predictions = autoencoder.predict(X_train)\n",
        "mse = np.mean(np.power(X_train - predictions, 2), axis=1)\n",
        "error_df = pd.DataFrame({'reconstruction_error': mse,\n",
        "                        'true_class': y_train})\n",
        "error_df.groupby('true_class').describe()"
      ],
      "execution_count": 15,
      "outputs": [
        {
          "output_type": "stream",
          "name": "stdout",
          "text": [
            "4451/4451 [==============================] - 6s 1ms/step\n"
          ]
        },
        {
          "output_type": "execute_result",
          "data": {
            "text/plain": [
              "           reconstruction_error                                            \\\n",
              "                          count       mean        std       min       25%   \n",
              "true_class                                                                  \n",
              "0                      142154.0   0.771152   3.444637  0.038280  0.226216   \n",
              "1                         249.0  30.065536  43.021335  0.148871  4.197479   \n",
              "\n",
              "                                              \n",
              "                  50%        75%         max  \n",
              "true_class                                    \n",
              "0            0.396186   0.650933  318.586731  \n",
              "1           11.108857  27.071403  280.288253  "
            ],
            "text/html": [
              "\n",
              "  <div id=\"df-e4a28282-ef10-46c5-9720-bb85e75b81e6\" class=\"colab-df-container\">\n",
              "    <div>\n",
              "<style scoped>\n",
              "    .dataframe tbody tr th:only-of-type {\n",
              "        vertical-align: middle;\n",
              "    }\n",
              "\n",
              "    .dataframe tbody tr th {\n",
              "        vertical-align: top;\n",
              "    }\n",
              "\n",
              "    .dataframe thead tr th {\n",
              "        text-align: left;\n",
              "    }\n",
              "\n",
              "    .dataframe thead tr:last-of-type th {\n",
              "        text-align: right;\n",
              "    }\n",
              "</style>\n",
              "<table border=\"1\" class=\"dataframe\">\n",
              "  <thead>\n",
              "    <tr>\n",
              "      <th></th>\n",
              "      <th colspan=\"8\" halign=\"left\">reconstruction_error</th>\n",
              "    </tr>\n",
              "    <tr>\n",
              "      <th></th>\n",
              "      <th>count</th>\n",
              "      <th>mean</th>\n",
              "      <th>std</th>\n",
              "      <th>min</th>\n",
              "      <th>25%</th>\n",
              "      <th>50%</th>\n",
              "      <th>75%</th>\n",
              "      <th>max</th>\n",
              "    </tr>\n",
              "    <tr>\n",
              "      <th>true_class</th>\n",
              "      <th></th>\n",
              "      <th></th>\n",
              "      <th></th>\n",
              "      <th></th>\n",
              "      <th></th>\n",
              "      <th></th>\n",
              "      <th></th>\n",
              "      <th></th>\n",
              "    </tr>\n",
              "  </thead>\n",
              "  <tbody>\n",
              "    <tr>\n",
              "      <th>0</th>\n",
              "      <td>142154.0</td>\n",
              "      <td>0.771152</td>\n",
              "      <td>3.444637</td>\n",
              "      <td>0.038280</td>\n",
              "      <td>0.226216</td>\n",
              "      <td>0.396186</td>\n",
              "      <td>0.650933</td>\n",
              "      <td>318.586731</td>\n",
              "    </tr>\n",
              "    <tr>\n",
              "      <th>1</th>\n",
              "      <td>249.0</td>\n",
              "      <td>30.065536</td>\n",
              "      <td>43.021335</td>\n",
              "      <td>0.148871</td>\n",
              "      <td>4.197479</td>\n",
              "      <td>11.108857</td>\n",
              "      <td>27.071403</td>\n",
              "      <td>280.288253</td>\n",
              "    </tr>\n",
              "  </tbody>\n",
              "</table>\n",
              "</div>\n",
              "    <div class=\"colab-df-buttons\">\n",
              "\n",
              "  <div class=\"colab-df-container\">\n",
              "    <button class=\"colab-df-convert\" onclick=\"convertToInteractive('df-e4a28282-ef10-46c5-9720-bb85e75b81e6')\"\n",
              "            title=\"Convert this dataframe to an interactive table.\"\n",
              "            style=\"display:none;\">\n",
              "\n",
              "  <svg xmlns=\"http://www.w3.org/2000/svg\" height=\"24px\" viewBox=\"0 -960 960 960\">\n",
              "    <path d=\"M120-120v-720h720v720H120Zm60-500h600v-160H180v160Zm220 220h160v-160H400v160Zm0 220h160v-160H400v160ZM180-400h160v-160H180v160Zm440 0h160v-160H620v160ZM180-180h160v-160H180v160Zm440 0h160v-160H620v160Z\"/>\n",
              "  </svg>\n",
              "    </button>\n",
              "\n",
              "  <style>\n",
              "    .colab-df-container {\n",
              "      display:flex;\n",
              "      gap: 12px;\n",
              "    }\n",
              "\n",
              "    .colab-df-convert {\n",
              "      background-color: #E8F0FE;\n",
              "      border: none;\n",
              "      border-radius: 50%;\n",
              "      cursor: pointer;\n",
              "      display: none;\n",
              "      fill: #1967D2;\n",
              "      height: 32px;\n",
              "      padding: 0 0 0 0;\n",
              "      width: 32px;\n",
              "    }\n",
              "\n",
              "    .colab-df-convert:hover {\n",
              "      background-color: #E2EBFA;\n",
              "      box-shadow: 0px 1px 2px rgba(60, 64, 67, 0.3), 0px 1px 3px 1px rgba(60, 64, 67, 0.15);\n",
              "      fill: #174EA6;\n",
              "    }\n",
              "\n",
              "    .colab-df-buttons div {\n",
              "      margin-bottom: 4px;\n",
              "    }\n",
              "\n",
              "    [theme=dark] .colab-df-convert {\n",
              "      background-color: #3B4455;\n",
              "      fill: #D2E3FC;\n",
              "    }\n",
              "\n",
              "    [theme=dark] .colab-df-convert:hover {\n",
              "      background-color: #434B5C;\n",
              "      box-shadow: 0px 1px 3px 1px rgba(0, 0, 0, 0.15);\n",
              "      filter: drop-shadow(0px 1px 2px rgba(0, 0, 0, 0.3));\n",
              "      fill: #FFFFFF;\n",
              "    }\n",
              "  </style>\n",
              "\n",
              "    <script>\n",
              "      const buttonEl =\n",
              "        document.querySelector('#df-e4a28282-ef10-46c5-9720-bb85e75b81e6 button.colab-df-convert');\n",
              "      buttonEl.style.display =\n",
              "        google.colab.kernel.accessAllowed ? 'block' : 'none';\n",
              "\n",
              "      async function convertToInteractive(key) {\n",
              "        const element = document.querySelector('#df-e4a28282-ef10-46c5-9720-bb85e75b81e6');\n",
              "        const dataTable =\n",
              "          await google.colab.kernel.invokeFunction('convertToInteractive',\n",
              "                                                    [key], {});\n",
              "        if (!dataTable) return;\n",
              "\n",
              "        const docLinkHtml = 'Like what you see? Visit the ' +\n",
              "          '<a target=\"_blank\" href=https://colab.research.google.com/notebooks/data_table.ipynb>data table notebook</a>'\n",
              "          + ' to learn more about interactive tables.';\n",
              "        element.innerHTML = '';\n",
              "        dataTable['output_type'] = 'display_data';\n",
              "        await google.colab.output.renderOutput(dataTable, element);\n",
              "        const docLink = document.createElement('div');\n",
              "        docLink.innerHTML = docLinkHtml;\n",
              "        element.appendChild(docLink);\n",
              "      }\n",
              "    </script>\n",
              "  </div>\n",
              "\n",
              "\n",
              "<div id=\"df-e256337c-9ee7-4707-9962-bfc98e0919bf\">\n",
              "  <button class=\"colab-df-quickchart\" onclick=\"quickchart('df-e256337c-9ee7-4707-9962-bfc98e0919bf')\"\n",
              "            title=\"Suggest charts\"\n",
              "            style=\"display:none;\">\n",
              "\n",
              "<svg xmlns=\"http://www.w3.org/2000/svg\" height=\"24px\"viewBox=\"0 0 24 24\"\n",
              "     width=\"24px\">\n",
              "    <g>\n",
              "        <path d=\"M19 3H5c-1.1 0-2 .9-2 2v14c0 1.1.9 2 2 2h14c1.1 0 2-.9 2-2V5c0-1.1-.9-2-2-2zM9 17H7v-7h2v7zm4 0h-2V7h2v10zm4 0h-2v-4h2v4z\"/>\n",
              "    </g>\n",
              "</svg>\n",
              "  </button>\n",
              "\n",
              "<style>\n",
              "  .colab-df-quickchart {\n",
              "      --bg-color: #E8F0FE;\n",
              "      --fill-color: #1967D2;\n",
              "      --hover-bg-color: #E2EBFA;\n",
              "      --hover-fill-color: #174EA6;\n",
              "      --disabled-fill-color: #AAA;\n",
              "      --disabled-bg-color: #DDD;\n",
              "  }\n",
              "\n",
              "  [theme=dark] .colab-df-quickchart {\n",
              "      --bg-color: #3B4455;\n",
              "      --fill-color: #D2E3FC;\n",
              "      --hover-bg-color: #434B5C;\n",
              "      --hover-fill-color: #FFFFFF;\n",
              "      --disabled-bg-color: #3B4455;\n",
              "      --disabled-fill-color: #666;\n",
              "  }\n",
              "\n",
              "  .colab-df-quickchart {\n",
              "    background-color: var(--bg-color);\n",
              "    border: none;\n",
              "    border-radius: 50%;\n",
              "    cursor: pointer;\n",
              "    display: none;\n",
              "    fill: var(--fill-color);\n",
              "    height: 32px;\n",
              "    padding: 0;\n",
              "    width: 32px;\n",
              "  }\n",
              "\n",
              "  .colab-df-quickchart:hover {\n",
              "    background-color: var(--hover-bg-color);\n",
              "    box-shadow: 0 1px 2px rgba(60, 64, 67, 0.3), 0 1px 3px 1px rgba(60, 64, 67, 0.15);\n",
              "    fill: var(--button-hover-fill-color);\n",
              "  }\n",
              "\n",
              "  .colab-df-quickchart-complete:disabled,\n",
              "  .colab-df-quickchart-complete:disabled:hover {\n",
              "    background-color: var(--disabled-bg-color);\n",
              "    fill: var(--disabled-fill-color);\n",
              "    box-shadow: none;\n",
              "  }\n",
              "\n",
              "  .colab-df-spinner {\n",
              "    border: 2px solid var(--fill-color);\n",
              "    border-color: transparent;\n",
              "    border-bottom-color: var(--fill-color);\n",
              "    animation:\n",
              "      spin 1s steps(1) infinite;\n",
              "  }\n",
              "\n",
              "  @keyframes spin {\n",
              "    0% {\n",
              "      border-color: transparent;\n",
              "      border-bottom-color: var(--fill-color);\n",
              "      border-left-color: var(--fill-color);\n",
              "    }\n",
              "    20% {\n",
              "      border-color: transparent;\n",
              "      border-left-color: var(--fill-color);\n",
              "      border-top-color: var(--fill-color);\n",
              "    }\n",
              "    30% {\n",
              "      border-color: transparent;\n",
              "      border-left-color: var(--fill-color);\n",
              "      border-top-color: var(--fill-color);\n",
              "      border-right-color: var(--fill-color);\n",
              "    }\n",
              "    40% {\n",
              "      border-color: transparent;\n",
              "      border-right-color: var(--fill-color);\n",
              "      border-top-color: var(--fill-color);\n",
              "    }\n",
              "    60% {\n",
              "      border-color: transparent;\n",
              "      border-right-color: var(--fill-color);\n",
              "    }\n",
              "    80% {\n",
              "      border-color: transparent;\n",
              "      border-right-color: var(--fill-color);\n",
              "      border-bottom-color: var(--fill-color);\n",
              "    }\n",
              "    90% {\n",
              "      border-color: transparent;\n",
              "      border-bottom-color: var(--fill-color);\n",
              "    }\n",
              "  }\n",
              "</style>\n",
              "\n",
              "  <script>\n",
              "    async function quickchart(key) {\n",
              "      const quickchartButtonEl =\n",
              "        document.querySelector('#' + key + ' button');\n",
              "      quickchartButtonEl.disabled = true;  // To prevent multiple clicks.\n",
              "      quickchartButtonEl.classList.add('colab-df-spinner');\n",
              "      try {\n",
              "        const charts = await google.colab.kernel.invokeFunction(\n",
              "            'suggestCharts', [key], {});\n",
              "      } catch (error) {\n",
              "        console.error('Error during call to suggestCharts:', error);\n",
              "      }\n",
              "      quickchartButtonEl.classList.remove('colab-df-spinner');\n",
              "      quickchartButtonEl.classList.add('colab-df-quickchart-complete');\n",
              "    }\n",
              "    (() => {\n",
              "      let quickchartButtonEl =\n",
              "        document.querySelector('#df-e256337c-9ee7-4707-9962-bfc98e0919bf button');\n",
              "      quickchartButtonEl.style.display =\n",
              "        google.colab.kernel.accessAllowed ? 'block' : 'none';\n",
              "    })();\n",
              "  </script>\n",
              "</div>\n",
              "    </div>\n",
              "  </div>\n"
            ]
          },
          "metadata": {},
          "execution_count": 15
        }
      ]
    },
    {
      "cell_type": "markdown",
      "metadata": {
        "id": "rRQepwFre9UM"
      },
      "source": [
        "As we can see above the error for non fraudulent case is lower than the error for fraudulent cases. We use a threshold of mean plus 3 sds to classify the test set."
      ]
    },
    {
      "cell_type": "code",
      "metadata": {
        "id": "-zAII8DQxw-B",
        "colab": {
          "base_uri": "https://localhost:8080/"
        },
        "outputId": "09674414-b875-4274-8030-45e3023c53b8"
      },
      "source": [
        "test_predictions=autoencoder.predict(X_test)\n",
        "mse = np.mean(np.power(X_test - test_predictions, 2), axis=1)\n",
        "y_pred=[(lambda er: 1 if er>=11.078922  else 0)(er) for er in mse]"
      ],
      "execution_count": 16,
      "outputs": [
        {
          "output_type": "stream",
          "name": "stdout",
          "text": [
            "4451/4451 [==============================] - 6s 1ms/step\n"
          ]
        }
      ]
    },
    {
      "cell_type": "code",
      "metadata": {
        "id": "mZ4V1lfb46jQ",
        "outputId": "5ea9ce68-a2de-4b65-ec24-550f4f4b28b0",
        "colab": {
          "base_uri": "https://localhost:8080/",
          "height": 472
        }
      },
      "source": [
        "conf_matrix = metrics.confusion_matrix(y_test,y_pred)\n",
        "\n",
        "ax=plt.subplot()\n",
        "sns.heatmap(conf_matrix,annot=True,ax=ax,fmt='g')#annot=True to annotate cells, fmt='g' numbers not scientific form\n",
        "ax.set_xlabel('Predicted labels'); ax.set_ylabel('True labels')\n",
        "ax.set_title('Confusion Matrix');\n",
        "ax.xaxis.set_ticklabels(['Normal', 'Fraud']); ax.yaxis.set_ticklabels(['Normal', 'Fraud']);\n",
        "ax.set(yticks=[0, 2],\n",
        "       xticks=[0.5, 1.5])\n",
        "ax.yaxis.set_major_locator(ticker.IndexLocator(base=1, offset=0.5))"
      ],
      "execution_count": 17,
      "outputs": [
        {
          "output_type": "display_data",
          "data": {
            "text/plain": [
              "<Figure size 640x480 with 2 Axes>"
            ],
            "image/png": "[encoded data removed]"
          },
          "metadata": {}
        }
      ]
    },
    {
      "cell_type": "markdown",
      "metadata": {
        "id": "Nh2xw3tcfng9"
      },
      "source": [
        "##Second method: using encoder part of autoencoder and k-NN\n",
        "\n",
        "We train using all cases (fraud/non-fraud)in train dataset and use the result to map the instances into a 12-dimensional space. The mapped cases are fed to k-NN for classification."
      ]
    },
    {
      "cell_type": "code",
      "metadata": {
        "id": "B7SnYf1KFVm9",
        "outputId": "444cc8da-79e1-443a-f435-43f4fa17ca62",
        "colab": {
          "base_uri": "https://localhost:8080/"
        }
      },
      "source": [
        "input_layer_all = Input(shape=(29, ))\n",
        "encoded_all = Dense(12,activation='tanh')(input_layer_all)\n",
        "decoded_all = Dense(29,activation='sigmoid')(encoded_all)\n",
        "autoencoder_all = Model(input_layer_all,decoded_all)\n",
        "autoencoder_all.compile(optimizer='adam',loss='mean_squared_error')\n",
        "autoencoder_all.fit(X_train, X_train, epochs = 100, batch_size=128,\n",
        "validation_data=(X_train,X_train))"
      ],
      "execution_count": 18,
      "outputs": [
        {
          "output_type": "stream",
          "name": "stdout",
          "text": [
            "Epoch 1/100\n",
            "1113/1113 [==============================] - 5s 4ms/step - loss: 1.0539 - val_loss: 0.9410\n",
            "Epoch 2/100\n",
            "1113/1113 [==============================] - 5s 4ms/step - loss: 0.9145 - val_loss: 0.8963\n",
            "Epoch 3/100\n",
            "1113/1113 [==============================] - 5s 4ms/step - loss: 0.8857 - val_loss: 0.8766\n",
            "Epoch 4/100\n",
            "1113/1113 [==============================] - 5s 4ms/step - loss: 0.8702 - val_loss: 0.8645\n",
            "Epoch 5/100\n",
            "1113/1113 [==============================] - 5s 4ms/step - loss: 0.8602 - val_loss: 0.8561\n",
            "Epoch 6/100\n",
            "1113/1113 [==============================] - 5s 4ms/step - loss: 0.8529 - val_loss: 0.8500\n",
            "Epoch 7/100\n",
            "1113/1113 [==============================] - 5s 4ms/step - loss: 0.8477 - val_loss: 0.8456\n",
            "Epoch 8/100\n",
            "1113/1113 [==============================] - 4s 3ms/step - loss: 0.8440 - val_loss: 0.8423\n",
            "Epoch 9/100\n",
            "1113/1113 [==============================] - 3s 3ms/step - loss: 0.8410 - val_loss: 0.8398\n",
            "Epoch 10/100\n",
            "1113/1113 [==============================] - 5s 4ms/step - loss: 0.8387 - val_loss: 0.8376\n",
            "Epoch 11/100\n",
            "1113/1113 [==============================] - 4s 4ms/step - loss: 0.8369 - val_loss: 0.8360\n",
            "Epoch 12/100\n",
            "1113/1113 [==============================] - 5s 4ms/step - loss: 0.8354 - val_loss: 0.8347\n",
            "Epoch 13/100\n",
            "1113/1113 [==============================] - 3s 3ms/step - loss: 0.8342 - val_loss: 0.8336\n",
            "Epoch 14/100\n",
            "1113/1113 [==============================] - 5s 5ms/step - loss: 0.8331 - val_loss: 0.8329\n",
            "Epoch 15/100\n",
            "1113/1113 [==============================] - 5s 4ms/step - loss: 0.8323 - val_loss: 0.8317\n",
            "Epoch 16/100\n",
            "1113/1113 [==============================] - 3s 3ms/step - loss: 0.8315 - val_loss: 0.8310\n",
            "Epoch 17/100\n",
            "1113/1113 [==============================] - 4s 4ms/step - loss: 0.8308 - val_loss: 0.8304\n",
            "Epoch 18/100\n",
            "1113/1113 [==============================] - 5s 5ms/step - loss: 0.8302 - val_loss: 0.8299\n",
            "Epoch 19/100\n",
            "1113/1113 [==============================] - 3s 3ms/step - loss: 0.8297 - val_loss: 0.8294\n",
            "Epoch 20/100\n",
            "1113/1113 [==============================] - 3s 3ms/step - loss: 0.8292 - val_loss: 0.8289\n",
            "Epoch 21/100\n",
            "1113/1113 [==============================] - 5s 5ms/step - loss: 0.8288 - val_loss: 0.8285\n",
            "Epoch 22/100\n",
            "1113/1113 [==============================] - 4s 4ms/step - loss: 0.8284 - val_loss: 0.8284\n",
            "Epoch 23/100\n",
            "1113/1113 [==============================] - 5s 4ms/step - loss: 0.8281 - val_loss: 0.8278\n",
            "Epoch 24/100\n",
            "1113/1113 [==============================] - 5s 5ms/step - loss: 0.8278 - val_loss: 0.8276\n",
            "Epoch 25/100\n",
            "1113/1113 [==============================] - 5s 4ms/step - loss: 0.8275 - val_loss: 0.8275\n",
            "Epoch 26/100\n",
            "1113/1113 [==============================] - 3s 3ms/step - loss: 0.8273 - val_loss: 0.8269\n",
            "Epoch 27/100\n",
            "1113/1113 [==============================] - 4s 4ms/step - loss: 0.8270 - val_loss: 0.8267\n",
            "Epoch 28/100\n",
            "1113/1113 [==============================] - 4s 4ms/step - loss: 0.8268 - val_loss: 0.8268\n",
            "Epoch 29/100\n",
            "1113/1113 [==============================] - 5s 4ms/step - loss: 0.8265 - val_loss: 0.8263\n",
            "Epoch 30/100\n",
            "1113/1113 [==============================] - 5s 4ms/step - loss: 0.8263 - val_loss: 0.8261\n",
            "Epoch 31/100\n",
            "1113/1113 [==============================] - 6s 5ms/step - loss: 0.8261 - val_loss: 0.8260\n",
            "Epoch 32/100\n",
            "1113/1113 [==============================] - 5s 5ms/step - loss: 0.8259 - val_loss: 0.8259\n",
            "Epoch 33/100\n",
            "1113/1113 [==============================] - 5s 4ms/step - loss: 0.8256 - val_loss: 0.8254\n",
            "Epoch 34/100\n",
            "1113/1113 [==============================] - 5s 5ms/step - loss: 0.8254 - val_loss: 0.8255\n",
            "Epoch 35/100\n",
            "1113/1113 [==============================] - 5s 4ms/step - loss: 0.8253 - val_loss: 0.8250\n",
            "Epoch 36/100\n",
            "1113/1113 [==============================] - 5s 4ms/step - loss: 0.8251 - val_loss: 0.8251\n",
            "Epoch 37/100\n",
            "1113/1113 [==============================] - 5s 4ms/step - loss: 0.8250 - val_loss: 0.8250\n",
            "Epoch 38/100\n",
            "1113/1113 [==============================] - 5s 4ms/step - loss: 0.8249 - val_loss: 0.8246\n",
            "Epoch 39/100\n",
            "1113/1113 [==============================] - 5s 4ms/step - loss: 0.8247 - val_loss: 0.8245\n",
            "Epoch 40/100\n",
            "1113/1113 [==============================] - 5s 4ms/step - loss: 0.8246 - val_loss: 0.8244\n",
            "Epoch 41/100\n",
            "1113/1113 [==============================] - 5s 4ms/step - loss: 0.8246 - val_loss: 0.8243\n",
            "Epoch 42/100\n",
            "1113/1113 [==============================] - 5s 4ms/step - loss: 0.8244 - val_loss: 0.8243\n",
            "Epoch 43/100\n",
            "1113/1113 [==============================] - 5s 4ms/step - loss: 0.8244 - val_loss: 0.8241\n",
            "Epoch 44/100\n",
            "1113/1113 [==============================] - 5s 4ms/step - loss: 0.8242 - val_loss: 0.8243\n",
            "Epoch 45/100\n",
            "1113/1113 [==============================] - 5s 4ms/step - loss: 0.8242 - val_loss: 0.8241\n",
            "Epoch 46/100\n",
            "1113/1113 [==============================] - 5s 4ms/step - loss: 0.8241 - val_loss: 0.8240\n",
            "Epoch 47/100\n",
            "1113/1113 [==============================] - 4s 3ms/step - loss: 0.8240 - val_loss: 0.8240\n",
            "Epoch 48/100\n",
            "1113/1113 [==============================] - 5s 4ms/step - loss: 0.8239 - val_loss: 0.8241\n",
            "Epoch 49/100\n",
            "1113/1113 [==============================] - 5s 4ms/step - loss: 0.8239 - val_loss: 0.8239\n",
            "Epoch 50/100\n",
            "1113/1113 [==============================] - 5s 5ms/step - loss: 0.8238 - val_loss: 0.8236\n",
            "Epoch 51/100\n",
            "1113/1113 [==============================] - 3s 3ms/step - loss: 0.8237 - val_loss: 0.8240\n",
            "Epoch 52/100\n",
            "1113/1113 [==============================] - 4s 4ms/step - loss: 0.8237 - val_loss: 0.8234\n",
            "Epoch 53/100\n",
            "1113/1113 [==============================] - 5s 5ms/step - loss: 0.8236 - val_loss: 0.8233\n",
            "Epoch 54/100\n",
            "1113/1113 [==============================] - 5s 4ms/step - loss: 0.8235 - val_loss: 0.8233\n",
            "Epoch 55/100\n",
            "1113/1113 [==============================] - 4s 3ms/step - loss: 0.8235 - val_loss: 0.8234\n",
            "Epoch 56/100\n",
            "1113/1113 [==============================] - 5s 4ms/step - loss: 0.8234 - val_loss: 0.8234\n",
            "Epoch 57/100\n",
            "1113/1113 [==============================] - 5s 4ms/step - loss: 0.8234 - val_loss: 0.8236\n",
            "Epoch 58/100\n",
            "1113/1113 [==============================] - 5s 4ms/step - loss: 0.8233 - val_loss: 0.8232\n",
            "Epoch 59/100\n",
            "1113/1113 [==============================] - 5s 5ms/step - loss: 0.8232 - val_loss: 0.8232\n",
            "Epoch 60/100\n",
            "1113/1113 [==============================] - 5s 4ms/step - loss: 0.8232 - val_loss: 0.8230\n",
            "Epoch 61/100\n",
            "1113/1113 [==============================] - 3s 3ms/step - loss: 0.8232 - val_loss: 0.8233\n",
            "Epoch 62/100\n",
            "1113/1113 [==============================] - 5s 4ms/step - loss: 0.8231 - val_loss: 0.8230\n",
            "Epoch 63/100\n",
            "1113/1113 [==============================] - 4s 3ms/step - loss: 0.8231 - val_loss: 0.8229\n",
            "Epoch 64/100\n",
            "1113/1113 [==============================] - 3s 3ms/step - loss: 0.8230 - val_loss: 0.8229\n",
            "Epoch 65/100\n",
            "1113/1113 [==============================] - 5s 4ms/step - loss: 0.8231 - val_loss: 0.8228\n",
            "Epoch 66/100\n",
            "1113/1113 [==============================] - 5s 5ms/step - loss: 0.8229 - val_loss: 0.8228\n",
            "Epoch 67/100\n",
            "1113/1113 [==============================] - 5s 4ms/step - loss: 0.8230 - val_loss: 0.8227\n",
            "Epoch 68/100\n",
            "1113/1113 [==============================] - 5s 4ms/step - loss: 0.8229 - val_loss: 0.8228\n",
            "Epoch 69/100\n",
            "1113/1113 [==============================] - 5s 5ms/step - loss: 0.8228 - val_loss: 0.8227\n",
            "Epoch 70/100\n",
            "1113/1113 [==============================] - 5s 4ms/step - loss: 0.8228 - val_loss: 0.8228\n",
            "Epoch 71/100\n",
            "1113/1113 [==============================] - 3s 3ms/step - loss: 0.8227 - val_loss: 0.8226\n",
            "Epoch 72/100\n",
            "1113/1113 [==============================] - 5s 5ms/step - loss: 0.8227 - val_loss: 0.8225\n",
            "Epoch 73/100\n",
            "1113/1113 [==============================] - 3s 3ms/step - loss: 0.8227 - val_loss: 0.8224\n",
            "Epoch 74/100\n",
            "1113/1113 [==============================] - 5s 4ms/step - loss: 0.8226 - val_loss: 0.8225\n",
            "Epoch 75/100\n",
            "1113/1113 [==============================] - 5s 4ms/step - loss: 0.8226 - val_loss: 0.8223\n",
            "Epoch 76/100\n",
            "1113/1113 [==============================] - 4s 3ms/step - loss: 0.8226 - val_loss: 0.8224\n",
            "Epoch 77/100\n",
            "1113/1113 [==============================] - 5s 4ms/step - loss: 0.8225 - val_loss: 0.8226\n",
            "Epoch 78/100\n",
            "1113/1113 [==============================] - 5s 4ms/step - loss: 0.8225 - val_loss: 0.8224\n",
            "Epoch 79/100\n",
            "1113/1113 [==============================] - 5s 5ms/step - loss: 0.8224 - val_loss: 0.8224\n",
            "Epoch 80/100\n",
            "1113/1113 [==============================] - 3s 3ms/step - loss: 0.8224 - val_loss: 0.8225\n",
            "Epoch 81/100\n",
            "1113/1113 [==============================] - 5s 4ms/step - loss: 0.8224 - val_loss: 0.8224\n",
            "Epoch 82/100\n",
            "1113/1113 [==============================] - 4s 4ms/step - loss: 0.8223 - val_loss: 0.8227\n",
            "Epoch 83/100\n",
            "1113/1113 [==============================] - 3s 3ms/step - loss: 0.8224 - val_loss: 0.8223\n",
            "Epoch 84/100\n",
            "1113/1113 [==============================] - 5s 4ms/step - loss: 0.8223 - val_loss: 0.8221\n",
            "Epoch 85/100\n",
            "1113/1113 [==============================] - 5s 4ms/step - loss: 0.8222 - val_loss: 0.8221\n",
            "Epoch 86/100\n",
            "1113/1113 [==============================] - 6s 5ms/step - loss: 0.8221 - val_loss: 0.8222\n",
            "Epoch 87/100\n",
            "1113/1113 [==============================] - 5s 4ms/step - loss: 0.8223 - val_loss: 0.8220\n",
            "Epoch 88/100\n",
            "1113/1113 [==============================] - 5s 4ms/step - loss: 0.8221 - val_loss: 0.8221\n",
            "Epoch 89/100\n",
            "1113/1113 [==============================] - 4s 4ms/step - loss: 0.8221 - val_loss: 0.8222\n",
            "Epoch 90/100\n",
            "1113/1113 [==============================] - 3s 3ms/step - loss: 0.8221 - val_loss: 0.8217\n",
            "Epoch 91/100\n",
            "1113/1113 [==============================] - 5s 4ms/step - loss: 0.8219 - val_loss: 0.8219\n",
            "Epoch 92/100\n",
            "1113/1113 [==============================] - 5s 5ms/step - loss: 0.8219 - val_loss: 0.8217\n",
            "Epoch 93/100\n",
            "1113/1113 [==============================] - 5s 4ms/step - loss: 0.8219 - val_loss: 0.8218\n",
            "Epoch 94/100\n",
            "1113/1113 [==============================] - 5s 4ms/step - loss: 0.8218 - val_loss: 0.8216\n",
            "Epoch 95/100\n",
            "1113/1113 [==============================] - 5s 5ms/step - loss: 0.8217 - val_loss: 0.8215\n",
            "Epoch 96/100\n",
            "1113/1113 [==============================] - 5s 4ms/step - loss: 0.8216 - val_loss: 0.8215\n",
            "Epoch 97/100\n",
            "1113/1113 [==============================] - 5s 4ms/step - loss: 0.8217 - val_loss: 0.8218\n",
            "Epoch 98/100\n",
            "1113/1113 [==============================] - 5s 5ms/step - loss: 0.8217 - val_loss: 0.8215\n",
            "Epoch 99/100\n",
            "1113/1113 [==============================] - 5s 4ms/step - loss: 0.8215 - val_loss: 0.8212\n",
            "Epoch 100/100\n",
            "1113/1113 [==============================] - 3s 3ms/step - loss: 0.8214 - val_loss: 0.8212\n"
          ]
        },
        {
          "output_type": "execute_result",
          "data": {
            "text/plain": [
              "<keras.src.callbacks.History at 0x7ebe001f0cd0>"
            ]
          },
          "metadata": {},
          "execution_count": 18
        }
      ]
    },
    {
      "cell_type": "code",
      "metadata": {
        "id": "9MntASWT9EYJ",
        "colab": {
          "base_uri": "https://localhost:8080/"
        },
        "outputId": "d4af6144-babd-43f9-ac6a-2f88a3f55e71"
      },
      "source": [
        "encoder_all = Model(input_layer_all,encoded_all)\n",
        "enc_all = encoder_all.predict(X_train)"
      ],
      "execution_count": 19,
      "outputs": [
        {
          "output_type": "stream",
          "name": "stdout",
          "text": [
            "4451/4451 [==============================] - 7s 2ms/step\n"
          ]
        }
      ]
    },
    {
      "cell_type": "markdown",
      "metadata": {
        "id": "hYRDsZ6ygSJq"
      },
      "source": [
        "Loading library for k-NN"
      ]
    },
    {
      "cell_type": "code",
      "metadata": {
        "id": "iix7bOJQ5gxc"
      },
      "source": [
        "from sklearn.neighbors import KNeighborsClassifier"
      ],
      "execution_count": 20,
      "outputs": []
    },
    {
      "cell_type": "code",
      "metadata": {
        "id": "CaDHQXxt5iCg"
      },
      "source": [
        "knn_model = KNeighborsClassifier(n_neighbors=3)"
      ],
      "execution_count": 21,
      "outputs": []
    },
    {
      "cell_type": "code",
      "metadata": {
        "id": "YjqB805u9XqF",
        "outputId": "b0135509-4616-44a1-a444-7f92d3ad5bd6",
        "colab": {
          "base_uri": "https://localhost:8080/",
          "height": 74
        }
      },
      "source": [
        "# Train the model using the training sets\n",
        "knn_model.fit(enc_all,y_train)"
      ],
      "execution_count": 22,
      "outputs": [
        {
          "output_type": "execute_result",
          "data": {
            "text/plain": [
              "KNeighborsClassifier(n_neighbors=3)"
            ],
            "text/html": [
              "<style>#sk-container-id-1 {color: black;background-color: white;}#sk-container-id-1 pre{padding: 0;}#sk-container-id-1 div.sk-toggleable {background-color: white;}#sk-container-id-1 label.sk-toggleable__label {cursor: pointer;display: block;width: 100%;margin-bottom: 0;padding: 0.3em;box-sizing: border-box;text-align: center;}#sk-container-id-1 label.sk-toggleable__label-arrow:before {content: \"▸\";float: left;margin-right: 0.25em;color: #696969;}#sk-container-id-1 label.sk-toggleable__label-arrow:hover:before {color: black;}#sk-container-id-1 div.sk-estimator:hover label.sk-toggleable__label-arrow:before {color: black;}#sk-container-id-1 div.sk-toggleable__content {max-height: 0;max-width: 0;overflow: hidden;text-align: left;background-color: #f0f8ff;}#sk-container-id-1 div.sk-toggleable__content pre {margin: 0.2em;color: black;border-radius: 0.25em;background-color: #f0f8ff;}#sk-container-id-1 input.sk-toggleable__control:checked~div.sk-toggleable__content {max-height: 200px;max-width: 100%;overflow: auto;}#sk-container-id-1 input.sk-toggleable__control:checked~label.sk-toggleable__label-arrow:before {content: \"▾\";}#sk-container-id-1 div.sk-estimator input.sk-toggleable__control:checked~label.sk-toggleable__label {background-color: #d4ebff;}#sk-container-id-1 div.sk-label input.sk-toggleable__control:checked~label.sk-toggleable__label {background-color: #d4ebff;}#sk-container-id-1 input.sk-hidden--visually {border: 0;clip: rect(1px 1px 1px 1px);clip: rect(1px, 1px, 1px, 1px);height: 1px;margin: -1px;overflow: hidden;padding: 0;position: absolute;width: 1px;}#sk-container-id-1 div.sk-estimator {font-family: monospace;background-color: #f0f8ff;border: 1px dotted black;border-radius: 0.25em;box-sizing: border-box;margin-bottom: 0.5em;}#sk-container-id-1 div.sk-estimator:hover {background-color: #d4ebff;}#sk-container-id-1 div.sk-parallel-item::after {content: \"\";width: 100%;border-bottom: 1px solid gray;flex-grow: 1;}#sk-container-id-1 div.sk-label:hover label.sk-toggleable__label {background-color: #d4ebff;}#sk-container-id-1 div.sk-serial::before {content: \"\";position: absolute;border-left: 1px solid gray;box-sizing: border-box;top: 0;bottom: 0;left: 50%;z-index: 0;}#sk-container-id-1 div.sk-serial {display: flex;flex-direction: column;align-items: center;background-color: white;padding-right: 0.2em;padding-left: 0.2em;position: relative;}#sk-container-id-1 div.sk-item {position: relative;z-index: 1;}#sk-container-id-1 div.sk-parallel {display: flex;align-items: stretch;justify-content: center;background-color: white;position: relative;}#sk-container-id-1 div.sk-item::before, #sk-container-id-1 div.sk-parallel-item::before {content: \"\";position: absolute;border-left: 1px solid gray;box-sizing: border-box;top: 0;bottom: 0;left: 50%;z-index: -1;}#sk-container-id-1 div.sk-parallel-item {display: flex;flex-direction: column;z-index: 1;position: relative;background-color: white;}#sk-container-id-1 div.sk-parallel-item:first-child::after {align-self: flex-end;width: 50%;}#sk-container-id-1 div.sk-parallel-item:last-child::after {align-self: flex-start;width: 50%;}#sk-container-id-1 div.sk-parallel-item:only-child::after {width: 0;}#sk-container-id-1 div.sk-dashed-wrapped {border: 1px dashed gray;margin: 0 0.4em 0.5em 0.4em;box-sizing: border-box;padding-bottom: 0.4em;background-color: white;}#sk-container-id-1 div.sk-label label {font-family: monospace;font-weight: bold;display: inline-block;line-height: 1.2em;}#sk-container-id-1 div.sk-label-container {text-align: center;}#sk-container-id-1 div.sk-container {/* jupyter's `normalize.less` sets `[hidden] { display: none; }` but bootstrap.min.css set `[hidden] { display: none !important; }` so we also need the `!important` here to be able to override the default hidden behavior on the sphinx rendered scikit-learn.org. See: https://github.com/scikit-learn/scikit-learn/issues/21755 */display: inline-block !important;position: relative;}#sk-container-id-1 div.sk-text-repr-fallback {display: none;}</style><div id=\"sk-container-id-1\" class=\"sk-top-container\"><div class=\"sk-text-repr-fallback\"><pre>KNeighborsClassifier(n_neighbors=3)</pre><b>In a Jupyter environment, please rerun this cell to show the HTML representation or trust the notebook. <br />On GitHub, the HTML representation is unable to render, please try loading this page with nbviewer.org.</b></div><div class=\"sk-container\" hidden><div class=\"sk-item\"><div class=\"sk-estimator sk-toggleable\"><input class=\"sk-toggleable__control sk-hidden--visually\" id=\"sk-estimator-id-1\" type=\"checkbox\" checked><label for=\"sk-estimator-id-1\" class=\"sk-toggleable__label sk-toggleable__label-arrow\">KNeighborsClassifier</label><div class=\"sk-toggleable__content\"><pre>KNeighborsClassifier(n_neighbors=3)</pre></div></div></div></div></div>"
            ]
          },
          "metadata": {},
          "execution_count": 22
        }
      ]
    },
    {
      "cell_type": "code",
      "metadata": {
        "id": "80H7xbeSBvWc",
        "outputId": "2a61ed84-c904-481c-e316-a67da354222d",
        "colab": {
          "base_uri": "https://localhost:8080/"
        }
      },
      "source": [
        "%%time\n",
        "knn_predicted= knn_model.predict(encoder_all.predict(X_test))"
      ],
      "execution_count": 23,
      "outputs": [
        {
          "output_type": "stream",
          "name": "stdout",
          "text": [
            "4451/4451 [==============================] - 6s 1ms/step\n",
            "CPU times: user 54 s, sys: 644 ms, total: 54.7 s\n",
            "Wall time: 53.8 s\n"
          ]
        }
      ]
    },
    {
      "cell_type": "code",
      "metadata": {
        "id": "6aVN3Qe-D3Oz",
        "outputId": "be9c2932-8c82-438c-955f-26d40f245f02",
        "colab": {
          "base_uri": "https://localhost:8080/",
          "height": 472
        }
      },
      "source": [
        "conf_matrix = metrics.confusion_matrix(y_test,knn_predicted)\n",
        "\n",
        "ax=plt.subplot()\n",
        "sns.heatmap(conf_matrix,annot=True,ax=ax,fmt='g')#annot=True to annotate cells, fmt='g' numbers not scientific form\n",
        "ax.set_xlabel('Predicted labels'); ax.set_ylabel('True labels')\n",
        "ax.set_title('Confusion Matrix');\n",
        "ax.xaxis.set_ticklabels(['Normal', 'Fraud']); ax.yaxis.set_ticklabels(['Normal', 'Fraud']);\n",
        "ax.set(yticks=[0, 2],\n",
        "       xticks=[0.5, 1.5])\n",
        "ax.yaxis.set_major_locator(ticker.IndexLocator(base=1, offset=0.5))"
      ],
      "execution_count": 24,
      "outputs": [
        {
          "output_type": "display_data",
          "data": {
            "text/plain": [
              "<Figure size 640x480 with 2 Axes>"
            ],
            "image/png": "[encoded data removed]"
          },
          "metadata": {}
        }
      ]
    },
    {
      "cell_type": "code",
      "source": [],
      "metadata": {
        "id": "xugF8GRxHTua"
      },
      "execution_count": 24,
      "outputs": []
    }
  ]
}